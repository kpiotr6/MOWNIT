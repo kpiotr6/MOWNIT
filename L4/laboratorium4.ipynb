{
 "cells": [
  {
   "cell_type": "code",
   "execution_count": null,
   "metadata": {},
   "outputs": [],
   "source": []
  }
 ],
 "metadata": {
  "kernelspec": {
   "display_name": ".venv",
   "language": "python",
   "name": "python3"
  },
  "language_info": {
   "name": "python",
   "version": "3.10.6"
  },
  "orig_nbformat": 4,
  "vscode": {
   "interpreter": {
    "hash": "44748bba30f56e191232589ecde99d077d95fe4c5aad201497a1434f1f47117c"
   }
  }
 },
 "nbformat": 4,
 "nbformat_minor": 2
}
