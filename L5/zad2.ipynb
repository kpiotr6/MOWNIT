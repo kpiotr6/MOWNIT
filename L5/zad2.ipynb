{
 "cells": [
  {
   "cell_type": "code",
   "execution_count": 178,
   "metadata": {},
   "outputs": [],
   "source": [
    "import numpy as np\n",
    "import matplotlib.pyplot as plt\n",
    "import scipy.integrate as integrate\n",
    "import scipy as sc\n",
    "import mpmath as mp"
   ]
  },
  {
   "cell_type": "code",
   "execution_count": 179,
   "metadata": {},
   "outputs": [],
   "source": [
    "def f(x):\n",
    "    return mp.sqrt(x)"
   ]
  },
  {
   "cell_type": "code",
   "execution_count": 180,
   "metadata": {},
   "outputs": [],
   "source": [
    "def w(t):\n",
    "    return mp.sqrt((1-t**2))"
   ]
  },
  {
   "cell_type": "markdown",
   "metadata": {},
   "source": []
  },
  {
   "cell_type": "code",
   "execution_count": 181,
   "metadata": {},
   "outputs": [],
   "source": [
    "base_functions = [lambda x: 1, lambda x: x, lambda x: 2*x**2 -1]"
   ]
  },
  {
   "cell_type": "code",
   "execution_count": 182,
   "metadata": {},
   "outputs": [],
   "source": [
    "def transform_cheb(nodes, a, b):\n",
    "    for i in range(len(nodes)):\n",
    "        nodes[i] = ((b-a)/2) * nodes[i] + (a+b)/2\n",
    "    return nodes\n",
    "    return (b-a)/2 * t + (a+b)/2\n",
    "#calculates n standard chebyshew points on interval[1,1]\n",
    "  \n",
    "def get_nodes_cheb(n):\n",
    "    nodes = np.empty(shape=n, dtype=float)\n",
    "    for i in range(1,n+1):\n",
    "        nodes[i-1] = mp.cos((mp.pi*(2*i+1))/(2*(n+1)))\n",
    "    return nodes"
   ]
  },
  {
   "cell_type": "code",
   "execution_count": 183,
   "metadata": {},
   "outputs": [
    {
     "name": "stdout",
     "output_type": "stream",
     "text": [
      "[ 0.38268343 -0.38268343 -0.92387953]\n"
     ]
    }
   ],
   "source": [
    "def polynomial_value(x, c):\n",
    "    sol = 0\n",
    "    for i in range(3):\n",
    "        sol += c*base_functions[i](x)\n",
    "\n",
    "cheb_points = get_nodes_cheb(3)\n",
    "print(cheb_points)\n"
   ]
  },
  {
   "cell_type": "code",
   "execution_count": 184,
   "metadata": {},
   "outputs": [
    {
     "name": "stdout",
     "output_type": "stream",
     "text": [
      "0.38268343236509\n",
      "[1.38268343 0.61731657 0.07612047]\n"
     ]
    },
    {
     "ename": "TypeError",
     "evalue": "unsupported operand type(s) for *: 'mpf' and 'function'",
     "output_type": "error",
     "traceback": [
      "\u001b[0;31m---------------------------------------------------------------------------\u001b[0m",
      "\u001b[0;31mTypeError\u001b[0m                                 Traceback (most recent call last)",
      "\u001b[1;32m/home/mr_nobody/studia/Semestr4/MOwNiT/MOWNIT/L5/zad2.ipynb Cell 8\u001b[0m in \u001b[0;36m1\n\u001b[1;32m      <a href='vscode-notebook-cell:/home/mr_nobody/studia/Semestr4/MOwNiT/MOWNIT/L5/zad2.ipynb#W1sZmlsZQ%3D%3D?line=5'>6</a>\u001b[0m \u001b[39mprint\u001b[39m(cheb_points)\n\u001b[1;32m      <a href='vscode-notebook-cell:/home/mr_nobody/studia/Semestr4/MOwNiT/MOWNIT/L5/zad2.ipynb#W1sZmlsZQ%3D%3D?line=8'>9</a>\u001b[0m \u001b[39mfor\u001b[39;00m i \u001b[39min\u001b[39;00m \u001b[39mrange\u001b[39m(\u001b[39m3\u001b[39m):\n\u001b[1;32m     <a href='vscode-notebook-cell:/home/mr_nobody/studia/Semestr4/MOwNiT/MOWNIT/L5/zad2.ipynb#W1sZmlsZQ%3D%3D?line=9'>10</a>\u001b[0m     \u001b[39m# print((lambda x: w(cheb_points[i])*(lambda x : f(x)*base_functions[i](x))(x))(0.2))\u001b[39;00m\n\u001b[1;32m     <a href='vscode-notebook-cell:/home/mr_nobody/studia/Semestr4/MOwNiT/MOWNIT/L5/zad2.ipynb#W1sZmlsZQ%3D%3D?line=10'>11</a>\u001b[0m     c[i] \u001b[39m=\u001b[39m integrate\u001b[39m.\u001b[39mquad(\u001b[39mlambda\u001b[39;00m x: w(cheb_points1[i])\u001b[39m*\u001b[39m(\u001b[39mlambda\u001b[39;00m x : f(x)\u001b[39m*\u001b[39mbase_functions[i](x))(x), \u001b[39m0\u001b[39m, \u001b[39m2\u001b[39m)\\\n\u001b[0;32m---> <a href='vscode-notebook-cell:/home/mr_nobody/studia/Semestr4/MOwNiT/MOWNIT/L5/zad2.ipynb#W1sZmlsZQ%3D%3D?line=11'>12</a>\u001b[0m         \u001b[39m/\u001b[39mintegrate\u001b[39m.\u001b[39;49mquad(\u001b[39mlambda\u001b[39;49;00m x: w(cheb_points1[i])\u001b[39m*\u001b[39;49m(\u001b[39mlambda\u001b[39;49;00m x : base_functions[i](x)\u001b[39m*\u001b[39;49mbase_functions[i](x))\u001b[39m*\u001b[39;49m(x), \u001b[39m0\u001b[39;49m, \u001b[39m2\u001b[39;49m)\n",
      "File \u001b[0;32m~/.local/lib/python3.10/site-packages/scipy/integrate/_quadpack_py.py:411\u001b[0m, in \u001b[0;36mquad\u001b[0;34m(func, a, b, args, full_output, epsabs, epsrel, limit, points, weight, wvar, wopts, maxp1, limlst)\u001b[0m\n\u001b[1;32m    408\u001b[0m flip, a, b \u001b[39m=\u001b[39m b \u001b[39m<\u001b[39m a, \u001b[39mmin\u001b[39m(a, b), \u001b[39mmax\u001b[39m(a, b)\n\u001b[1;32m    410\u001b[0m \u001b[39mif\u001b[39;00m weight \u001b[39mis\u001b[39;00m \u001b[39mNone\u001b[39;00m:\n\u001b[0;32m--> 411\u001b[0m     retval \u001b[39m=\u001b[39m _quad(func, a, b, args, full_output, epsabs, epsrel, limit,\n\u001b[1;32m    412\u001b[0m                    points)\n\u001b[1;32m    413\u001b[0m \u001b[39melse\u001b[39;00m:\n\u001b[1;32m    414\u001b[0m     \u001b[39mif\u001b[39;00m points \u001b[39mis\u001b[39;00m \u001b[39mnot\u001b[39;00m \u001b[39mNone\u001b[39;00m:\n",
      "File \u001b[0;32m~/.local/lib/python3.10/site-packages/scipy/integrate/_quadpack_py.py:523\u001b[0m, in \u001b[0;36m_quad\u001b[0;34m(func, a, b, args, full_output, epsabs, epsrel, limit, points)\u001b[0m\n\u001b[1;32m    521\u001b[0m \u001b[39mif\u001b[39;00m points \u001b[39mis\u001b[39;00m \u001b[39mNone\u001b[39;00m:\n\u001b[1;32m    522\u001b[0m     \u001b[39mif\u001b[39;00m infbounds \u001b[39m==\u001b[39m \u001b[39m0\u001b[39m:\n\u001b[0;32m--> 523\u001b[0m         \u001b[39mreturn\u001b[39;00m _quadpack\u001b[39m.\u001b[39;49m_qagse(func,a,b,args,full_output,epsabs,epsrel,limit)\n\u001b[1;32m    524\u001b[0m     \u001b[39melse\u001b[39;00m:\n\u001b[1;32m    525\u001b[0m         \u001b[39mreturn\u001b[39;00m _quadpack\u001b[39m.\u001b[39m_qagie(func,bound,infbounds,args,full_output,epsabs,epsrel,limit)\n",
      "\u001b[1;32m/home/mr_nobody/studia/Semestr4/MOwNiT/MOWNIT/L5/zad2.ipynb Cell 8\u001b[0m in \u001b[0;36m1\n\u001b[1;32m      <a href='vscode-notebook-cell:/home/mr_nobody/studia/Semestr4/MOwNiT/MOWNIT/L5/zad2.ipynb#W1sZmlsZQ%3D%3D?line=5'>6</a>\u001b[0m \u001b[39mprint\u001b[39m(cheb_points)\n\u001b[1;32m      <a href='vscode-notebook-cell:/home/mr_nobody/studia/Semestr4/MOwNiT/MOWNIT/L5/zad2.ipynb#W1sZmlsZQ%3D%3D?line=8'>9</a>\u001b[0m \u001b[39mfor\u001b[39;00m i \u001b[39min\u001b[39;00m \u001b[39mrange\u001b[39m(\u001b[39m3\u001b[39m):\n\u001b[1;32m     <a href='vscode-notebook-cell:/home/mr_nobody/studia/Semestr4/MOwNiT/MOWNIT/L5/zad2.ipynb#W1sZmlsZQ%3D%3D?line=9'>10</a>\u001b[0m     \u001b[39m# print((lambda x: w(cheb_points[i])*(lambda x : f(x)*base_functions[i](x))(x))(0.2))\u001b[39;00m\n\u001b[1;32m     <a href='vscode-notebook-cell:/home/mr_nobody/studia/Semestr4/MOwNiT/MOWNIT/L5/zad2.ipynb#W1sZmlsZQ%3D%3D?line=10'>11</a>\u001b[0m     c[i] \u001b[39m=\u001b[39m integrate\u001b[39m.\u001b[39mquad(\u001b[39mlambda\u001b[39;00m x: w(cheb_points1[i])\u001b[39m*\u001b[39m(\u001b[39mlambda\u001b[39;00m x : f(x)\u001b[39m*\u001b[39mbase_functions[i](x))(x), \u001b[39m0\u001b[39m, \u001b[39m2\u001b[39m)\\\n\u001b[0;32m---> <a href='vscode-notebook-cell:/home/mr_nobody/studia/Semestr4/MOwNiT/MOWNIT/L5/zad2.ipynb#W1sZmlsZQ%3D%3D?line=11'>12</a>\u001b[0m         \u001b[39m/\u001b[39mintegrate\u001b[39m.\u001b[39mquad(\u001b[39mlambda\u001b[39;00m x: w(cheb_points1[i])\u001b[39m*\u001b[39;49m(\u001b[39mlambda\u001b[39;49;00m x : base_functions[i](x)\u001b[39m*\u001b[39;49mbase_functions[i](x))\u001b[39m*\u001b[39m(x), \u001b[39m0\u001b[39m, \u001b[39m2\u001b[39m)\n",
      "\u001b[0;31mTypeError\u001b[0m: unsupported operand type(s) for *: 'mpf' and 'function'"
     ]
    }
   ],
   "source": [
    "c = np.zeros(3)\n",
    "\n",
    "cheb_points1 = get_nodes_cheb(3)\n",
    "print(w(cheb_points[2]))\n",
    "cheb_points2= transform_cheb(cheb_points, 0, 2)\n",
    "print(cheb_points)\n",
    "\n",
    "\n",
    "for i in range(3):\n",
    "    # print((lambda x: w(cheb_points[i])*(lambda x : f(x)*base_functions[i](x))(x))(0.2))\n",
    "    c[i] = integrate.quad(lambda x: w(cheb_points1[i])*(lambda x : f(x)*base_functions[i](x))(x), 0, 2)\\\n",
    "        /integrate.quad(lambda x: w(cheb_points1[i])*(lambda x : base_functions[i](x)*base_functions[i](x))*(x), 0, 2)\n",
    "    \n"
   ]
  },
  {
   "cell_type": "code",
   "execution_count": null,
   "metadata": {},
   "outputs": [],
   "source": [
    "x_space = np.arange(1900, 1990, 0.1)\n",
    "y_space = [polynomial_value(x, c) for x in x_space]"
   ]
  }
 ],
 "metadata": {
  "kernelspec": {
   "display_name": ".venv",
   "language": "python",
   "name": "python3"
  },
  "language_info": {
   "codemirror_mode": {
    "name": "ipython",
    "version": 3
   },
   "file_extension": ".py",
   "mimetype": "text/x-python",
   "name": "python",
   "nbconvert_exporter": "python",
   "pygments_lexer": "ipython3",
   "version": "3.10.6"
  },
  "orig_nbformat": 4,
  "vscode": {
   "interpreter": {
    "hash": "44748bba30f56e191232589ecde99d077d95fe4c5aad201497a1434f1f47117c"
   }
  }
 },
 "nbformat": 4,
 "nbformat_minor": 2
}
