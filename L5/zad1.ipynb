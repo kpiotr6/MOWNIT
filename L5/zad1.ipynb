{
 "cells": [
  {
   "cell_type": "code",
   "execution_count": 35,
   "metadata": {},
   "outputs": [
    {
     "name": "stderr",
     "output_type": "stream",
     "text": [
      "/tmp/ipykernel_1862/1843203923.py:40: FutureWarning: `rcond` parameter will change to the default of machine precision times ``max(M, N)`` where M and N are the input matrix dimensions.\n",
      "To use the future default and silence this warning we advise to pass `rcond=None`, to keep using the old, explicitly pass `rcond=-1`.\n",
      "  coeff.append(np.linalg.lstsq(p_matrix,pop)[0])\n"
     ]
    },
    {
     "name": "stdout",
     "output_type": "stream",
     "text": [
      "[5.18747560e-02 2.41368451e-02 5.11812886e-02 5.71965167e-02\n",
      " 5.12857576e-02 2.30479546e+02 2.00000000e+03]\n"
     ]
    },
    {
     "data": {
      "image/png": "[encoded data removed]",
      "text/plain": [
       "<Figure size 640x480 with 1 Axes>"
      ]
     },
     "metadata": {},
     "output_type": "display_data"
    }
   ],
   "source": [
    "import numpy as np\n",
    "import matplotlib.pyplot as plt\n",
    "import scipy as sc\n",
    "import mpmath as mp\n",
    "\n",
    "def polynomial_matrix(x_values,pow):\n",
    "    m = len(x_values)\n",
    "    n = pow + 1\n",
    "    matrix = np.empty(shape=(m,n))\n",
    "    for i in range(m):\n",
    "        for j in range(n):\n",
    "            matrix[i][j] = x_values[i]**j\n",
    "    return np.matrix(matrix)\n",
    "\n",
    "def horner(x,c):\n",
    "    result = 0 \n",
    "    for i in range(len(c)-1,-1,-1):\n",
    "        result = (result*x) + c[i]\n",
    "    return result\n",
    "\n",
    "def sqdiff(real,calculated):\n",
    "    sum = 0\n",
    "    for yr,yc in zip(real,calculated):\n",
    "        sum += (yr-yc)**2\n",
    "    return sum\n",
    "\n",
    "if __name__ == \"__main__\":\n",
    "    # Something is wrong with np.linalg.lstsq when m>6\n",
    "    m = 6\n",
    "    real = 248709873\n",
    "    years = np.array([1900,1910,1920,1930,1940,1950,1960,1970,1980])\n",
    "    pop = [76212168,92228496,106021537,123202624,132164569,151325798,179323175,203302031,226542199]\n",
    "    n = len(years)\n",
    "    coeff = []\n",
    "    x_space = np.arange(1900, 1990, 0.1)\n",
    "    AICcs = np.empty(shape=m)\n",
    "    errors = np.empty(shape=m)\n",
    "    for i in range(1,m):\n",
    "        k = i+1\n",
    "        p_matrix = polynomial_matrix(years,i)\n",
    "        coeff.append(np.linalg.lstsq(p_matrix,pop)[0])\n",
    "        y_vals = [horner(x,coeff[i-1]) for x in years]\n",
    "        y_space = [horner(x,coeff[i-1]) for x in x_space]\n",
    "        AICcs[i-1] = 2*k+n*np.log(sqdiff(pop,y_vals)/n)+2*k*(k+1)/(n-k-1)\n",
    "        errors[i-1] = abs(real-horner(1990,coeff[i-1]))/real\n",
    "        plt.plot(x_space,y_space)\n",
    "    plt.scatter(years,pop)\n",
    "    print(AICcs)\n",
    "    print(errors)\n",
    "    \n",
    "   "
   ]
  },
  {
   "cell_type": "code",
   "execution_count": null,
   "metadata": {},
   "outputs": [],
   "source": []
  }
 ],
 "metadata": {
  "kernelspec": {
   "display_name": "venv",
   "language": "python",
   "name": "python3"
  },
  "language_info": {
   "codemirror_mode": {
    "name": "ipython",
    "version": 3
   },
   "file_extension": ".py",
   "mimetype": "text/x-python",
   "name": "python",
   "nbconvert_exporter": "python",
   "pygments_lexer": "ipython3",
   "version": "3.10.6"
  },
  "orig_nbformat": 4,
  "vscode": {
   "interpreter": {
    "hash": "d13347df0b111d902dc1195d92acf82835937f7b62dbfc5b70e1c9289a5a93d1"
   }
  }
 },
 "nbformat": 4,
 "nbformat_minor": 2
}
