{
 "cells": [
  {
   "attachments": {},
   "cell_type": "markdown",
   "metadata": {},
   "source": [
    "### Laboratorium 8\n",
    "# Rozwiązywanie równań nieliniowych\n",
    "\n",
    "Sebastian Soczawa, Piotr Kuchta"
   ]
  },
  {
   "attachments": {},
   "cell_type": "markdown",
   "metadata": {},
   "source": [
    "## Zadanie 1"
   ]
  },
  {
   "cell_type": "code",
   "execution_count": 228,
   "metadata": {},
   "outputs": [],
   "source": [
    "import numpy as np\n",
    "import matplotlib.pyplot as plt\n",
    "from mpmath import sin, cos"
   ]
  },
  {
   "cell_type": "code",
   "execution_count": 229,
   "metadata": {},
   "outputs": [],
   "source": [
    "def f(x):\n",
    "    return x*x -3*x + 2"
   ]
  },
  {
   "attachments": {},
   "cell_type": "markdown",
   "metadata": {},
   "source": [
    "Powyższa funkcja posiada 2 pierwiastki: $ x = 2 $, oraz $ x = 1 $"
   ]
  },
  {
   "attachments": {},
   "cell_type": "markdown",
   "metadata": {},
   "source": [
    "Poniżej definiujemy schematy iteracyjne podane w zadaniu 1."
   ]
  },
  {
   "cell_type": "code",
   "execution_count": 230,
   "metadata": {},
   "outputs": [],
   "source": [
    "def g1(x):\n",
    "    return (x**2 + 2) / 3\n",
    "\n",
    "def g2(x):\n",
    "    return (3*x - 2)**(1/2)\n",
    "\n",
    "def g3(x):\n",
    "    return 3 - 2/x\n",
    "\n",
    "def g4(x):\n",
    "    return (x**2 - 2)/(2*x - 3)\n",
    "\n",
    "# derivatives\n",
    "\n",
    "def g1_der(x):\n",
    "    return 2*x/3\n",
    "\n",
    "def g2_der(x):\n",
    "    return 3/(2*(3*x - 2)**(1/2))\n",
    "\n",
    "def g3_der(x):\n",
    "    return 2/(x**2)\n",
    "\n",
    "def g4_der(x):\n",
    "    return 2*(x**2 -3*x + 2)/((2*x - 3)**2)"
   ]
  },
  {
   "cell_type": "code",
   "execution_count": 231,
   "metadata": {},
   "outputs": [
    {
     "name": "stdout",
     "output_type": "stream",
     "text": [
      "|g1`(2)| =  1.33\n",
      "|g2`(2)| =  0.75\n",
      "|g3`(2)| =  0.5\n",
      "|g4`(2)| =  0.0\n"
     ]
    }
   ],
   "source": [
    "# g`(2)\n",
    "print(\"|g1`(2)| = \", round(abs(g1_der(2)),2))\n",
    "print(\"|g2`(2)| = \", abs(g2_der(2)))\n",
    "print(\"|g3`(2)| = \", abs(g3_der(2)))\n",
    "print(\"|g4`(2)| = \", abs(g4_der(2)))"
   ]
  },
  {
   "attachments": {},
   "cell_type": "markdown",
   "metadata": {},
   "source": [
    "Pochodne funkcji $g_2, g_3$ oraz $g_4$ w punkcie x = 2 są w wartości bezwzględnej mniejsze od 1, więc z twierdzenia o zbieżności procesu iteracyjnego możemy stwierdzić, że są one zbieżne do pierwiastka x = 2. Im mniejsza wartość $ |g_i`(2)| $ tym wwyższy rząd zbieżności. W przypadku funkcji $g_4$ rząd ten wynosi conajmniej 2, ponieważ $ |g_4`(2)|= 0$. \n",
    "Schemat iteraycjny $x = g_1(x)$ jest rozbieżny, gdyż $ | g_1`(2) | $ > 1"
   ]
  },
  {
   "attachments": {},
   "cell_type": "markdown",
   "metadata": {},
   "source": [
    "b) funkcja realizująca schemat iteracyjny i obliczająca błędy w każdej iteracji"
   ]
  },
  {
   "cell_type": "code",
   "execution_count": 232,
   "metadata": {},
   "outputs": [],
   "source": [
    "def iterate(x, abs_err, g, x0, root):\n",
    "    x[0] = x0;\n",
    "    abs_err[0] = abs(root - x0) \n",
    "    for i in range(1, 10):\n",
    "        x[i] = g(x[i-1])\n",
    "        abs_err[i] = abs(root - x[i])"
   ]
  },
  {
   "attachments": {},
   "cell_type": "markdown",
   "metadata": {},
   "source": [
    "funkcja obliczająca rząd zbieżności, zgodnie ze wzorem podanym w zadaniu: $$ r = \\frac{ln \\frac{\\epsilon _k}{\\epsilon _{k+1}}}{ln \\frac{\\epsilon _{k-1}}{\\epsilon _k}} $$"
   ]
  },
  {
   "cell_type": "code",
   "execution_count": 233,
   "metadata": {},
   "outputs": [],
   "source": [
    "def calc_convergence(err, rate):\n",
    "    for i in range(1, 9):\n",
    "        rate[i] = np.log(err[i] / err[i+1]) / np.log(err[i-1] / err[i]) "
   ]
  },
  {
   "cell_type": "code",
   "execution_count": 234,
   "metadata": {},
   "outputs": [
    {
     "name": "stderr",
     "output_type": "stream",
     "text": [
      "/tmp/ipykernel_157381/3467930521.py:3: RuntimeWarning: divide by zero encountered in scalar divide\n",
      "  rate[i] = np.log(err[i] / err[i+1]) / np.log(err[i-1] / err[i])\n",
      "/tmp/ipykernel_157381/3467930521.py:3: RuntimeWarning: invalid value encountered in scalar divide\n",
      "  rate[i] = np.log(err[i] / err[i+1]) / np.log(err[i-1] / err[i])\n"
     ]
    }
   ],
   "source": [
    "x0 = 1.9\n",
    "root = 2\n",
    "x_1 = np.array([0 for _ in range(10)], dtype=float)\n",
    "x_2 = np.array([0 for _ in range(10)], dtype=float)\n",
    "x_3 = np.array([0 for _ in range(10)], dtype=float)\n",
    "x_4 = np.array([0 for _ in range(10)], dtype=float)\n",
    "\n",
    "err_1 = np.array([0 for _ in range(10)], dtype=float)\n",
    "err_2 = np.array([0 for _ in range(10)], dtype=float)\n",
    "err_3 = np.array([0 for _ in range(10)], dtype=float)\n",
    "err_4 = np.array([0 for _ in range(10)], dtype=float)\n",
    "\n",
    "r_1 = np.array([0 for _ in range(10)], dtype=float)\n",
    "r_2 = np.array([0 for _ in range(10)], dtype=float)\n",
    "r_3 = np.array([0 for _ in range(10)], dtype=float)\n",
    "r_4 = np.array([0 for _ in range(10)], dtype=float)\n",
    "\n",
    "\n",
    "iterate(x_1, err_1, g1, x0, root)\n",
    "iterate(x_2, err_2, g2, x0, root)\n",
    "iterate(x_3, err_3, g3, x0, root)\n",
    "iterate(x_4, err_4, g4, x0, root)\n",
    "\n",
    "calc_convergence(err_1, r_1)\n",
    "calc_convergence(err_2, r_2)\n",
    "calc_convergence(err_3, r_3)\n",
    "calc_convergence(err_4, r_4)"
   ]
  },
  {
   "cell_type": "code",
   "execution_count": 235,
   "metadata": {},
   "outputs": [
    {
     "name": "stdout",
     "output_type": "stream",
     "text": [
      "[0.         0.97056746 0.96155641 0.95011423 0.93581246 0.91829978\n",
      " 0.89741381 0.87332076 0.84664403 0.        ]\n",
      "[0.         1.01730893 1.01304221 1.00981567 1.00738088 1.00554641\n",
      " 1.00416586 1.00312779 1.00234775 0.        ]\n",
      "[0.         1.0383655  1.01959941 1.00990782 1.00498145 1.00249768\n",
      " 1.00125059 1.00062573 1.00031298 0.        ]\n",
      "[0.         2.119184   1.99446577 1.94327727        inf        nan\n",
      "        nan        nan        nan 0.        ]\n",
      "Przybliżenia g1 [1.9        1.87       1.8323     1.78577443 1.72966344 1.66391187\n",
      " 1.58953424 1.50887303 1.42556594 1.34407942]\n",
      "Przybliżenia g2 [1.9        1.92353841 1.9418072  1.95586851 1.96662287 1.9748085\n",
      " 1.98101628 1.98571117 1.98925451 1.99192458]\n",
      "Przybliżenia g3 [1.9        1.94736842 1.97297297 1.98630137 1.99310345 1.99653979\n",
      " 1.9982669  1.9991327  1.99956616 1.99978303]\n",
      "Przybliżenia g4 [1.9        2.0125     2.00015244 2.00000002 2.         2.\n",
      " 2.         2.         2.         2.        ]\n",
      "Błąd g1 [0.1        0.13       0.1677     0.21422557 0.27033656 0.33608813\n",
      " 0.41046576 0.49112697 0.57443406 0.65592058]\n",
      "Błąd g2 [0.1        0.07646159 0.0581928  0.04413149 0.03337713 0.0251915\n",
      " 0.01898372 0.01428883 0.01074549 0.00807542]\n",
      "Błąd g3 [0.1        0.05263158 0.02702703 0.01369863 0.00689655 0.00346021\n",
      " 0.0017331  0.0008673  0.00043384 0.00021697]\n",
      "Błąd g4 [1.00000000e-01 1.25000000e-02 1.52439024e-04 2.32305739e-08\n",
      " 8.88178420e-16 0.00000000e+00 0.00000000e+00 0.00000000e+00\n",
      " 0.00000000e+00 0.00000000e+00]\n"
     ]
    }
   ],
   "source": [
    "print(r_1)\n",
    "print(r_2)\n",
    "print(r_3)\n",
    "print(r_4)\n",
    "print(\"Przybliżenia g1\", x_1)\n",
    "print(\"Przybliżenia g2\",x_2)\n",
    "print(\"Przybliżenia g3\",x_3)\n",
    "print(\"Przybliżenia g4\",x_4)\n",
    "print(\"Błąd g1\", err_1)\n",
    "print(\"Błąd g2\", err_2)\n",
    "print(\"Błąd g3\", err_3)\n",
    "print(\"Błąd g4\", err_4)"
   ]
  },
  {
   "cell_type": "code",
   "execution_count": 236,
   "metadata": {},
   "outputs": [],
   "source": [
    "for i in range(10):\n",
    "    err_1 = err_1/root\n",
    "    err_2 = err_2/root\n",
    "    err_3 = err_3/root\n",
    "    err_4 = err_4/root"
   ]
  },
  {
   "cell_type": "code",
   "execution_count": 237,
   "metadata": {},
   "outputs": [
    {
     "data": {
      "image/png": "[encoded data removed]",
      "text/plain": [
       "<Figure size 640x480 with 1 Axes>"
      ]
     },
     "metadata": {},
     "output_type": "display_data"
    }
   ],
   "source": [
    "k_space = [i for i in range(1, 11)]\n",
    "\n",
    "plt.title(\"Wykresy błędów względnych dla schematów iteracyjnych w zależności od k\")\n",
    "plt.xlabel(\"k\")\n",
    "plt.ylabel(\"err\")\n",
    "plt.plot(k_space, err_1, color='r', label=\"err g1\")\n",
    "plt.plot(k_space, err_2, color='g', label=\"err g2\")\n",
    "plt.plot(k_space, err_3, color='b', label=\"err g3\")\n",
    "plt.plot(k_space, err_4, color='pink', label=\"err g4\")\n",
    "plt.legend()\n",
    "plt.show()"
   ]
  },
  {
   "cell_type": "code",
   "execution_count": 238,
   "metadata": {},
   "outputs": [
    {
     "data": {
      "image/png": "[encoded data removed]",
      "text/plain": [
       "<Figure size 640x480 with 1 Axes>"
      ]
     },
     "metadata": {},
     "output_type": "display_data"
    }
   ],
   "source": [
    "plt.semilogy()\n",
    "plt.title(\"Wykresy błędów względnych dla schematów iteracyjnych w zależności od k\")\n",
    "plt.xlabel(\"k\")\n",
    "plt.ylabel(\"err\")\n",
    "plt.plot(k_space, err_2, color='g', label=\"err g2\")\n",
    "plt.plot(k_space, err_3, color='b', label=\"err g3\")\n",
    "plt.plot(k_space, err_4, color='pink', label=\"err g4\")\n",
    "plt.legend()\n",
    "plt.show()"
   ]
  },
  {
   "attachments": {},
   "cell_type": "markdown",
   "metadata": {},
   "source": [
    "### Wnioski\n",
    "\n",
    "Błąd generowany przez metodę znacząco zależy od tego jaki schemat iteracyjny wybierzemy. Po pierwsze powinno się go dobrać, tak żeby był zbieżny, po drugie żeby rząd tej zbieżności był jak największy. "
   ]
  },
  {
   "attachments": {},
   "cell_type": "markdown",
   "metadata": {},
   "source": [
    "## Zadanie 2"
   ]
  },
  {
   "attachments": {},
   "cell_type": "markdown",
   "metadata": {},
   "source": [
    "Poniższa funkcja oblicza przyliżone rozwiązania równania nieliniowego metodą N-R, zgodnie ze schematem iteracji:\n",
    "\n",
    "$$ x_{k+1} = x_k - \\frac{f(x_{k})}{f`(x_{k})} $$"
   ]
  },
  {
   "cell_type": "code",
   "execution_count": 239,
   "metadata": {},
   "outputs": [],
   "source": [
    "def NewtonRaphson(f, f_der, x0, bit_prec):\n",
    "    x_prev = float(np.inf)\n",
    "    x = x0\n",
    "    i = 0\n",
    "    while(abs(x_prev - x) > 2**(-bit_prec) and i < 8):\n",
    "        i += 1\n",
    "        x_prev = x\n",
    "        x = x - f(x)/f_der(x)\n",
    "        print(\"iteracja\", i, \":\", x)\n",
    "    return i"
   ]
  },
  {
   "cell_type": "code",
   "execution_count": 240,
   "metadata": {},
   "outputs": [],
   "source": [
    "def f_a(x):\n",
    "    return x**3 - 2*x - 5\n",
    "\n",
    "def f_a_der(x):\n",
    "    return 3*x**2 - 2\n",
    "\n",
    "def f_b(x):\n",
    "    return np.e**(-x) - x\n",
    "\n",
    "def f_b_der(x):\n",
    "    return -np.e**(-x) - 1\n",
    "\n",
    "def f_c(x):\n",
    "    return x*np.sin(x) - 1\n",
    "\n",
    "def f_c_der(x):\n",
    "    return x*np.cos(x) + np.sin(x)"
   ]
  },
  {
   "cell_type": "code",
   "execution_count": 241,
   "metadata": {},
   "outputs": [
    {
     "name": "stdout",
     "output_type": "stream",
     "text": [
      "iteracja 1 : 2.095060893098782\n",
      "iteracja 2 : 2.0945516275753544\n",
      "iteracja 3 : 2.0945514815423385\n",
      "iteracja 4 : 2.0945514815423265\n",
      "a: pojedyncza precyzja -   4\n",
      "iteracja 1 : 2.095060893098782\n",
      "iteracja 2 : 2.0945516275753544\n",
      "iteracja 3 : 2.0945514815423385\n",
      "iteracja 4 : 2.0945514815423265\n",
      "iteracja 5 : 2.0945514815423265\n",
      "a: podwójna precycja -  5\n",
      "\n",
      "iteracja 1 : 0.5671393836244013\n",
      "iteracja 2 : 0.567143290407022\n",
      "iteracja 3 : 0.5671432904097838\n",
      "b: pojedyncza precyzja -  3\n",
      "iteracja 1 : 0.5671393836244013\n",
      "iteracja 2 : 0.567143290407022\n",
      "iteracja 3 : 0.5671432904097838\n",
      "iteracja 4 : 0.567143290409784\n",
      "b: podwójna precycja -  4\n",
      "\n",
      "iteracja 1 : 1.114151159334629\n",
      "iteracja 2 : 1.1141571408704085\n",
      "iteracja 3 : 1.11415714087193\n",
      "c: pojedyncza precyzja -  3\n",
      "iteracja 1 : 1.114151159334629\n",
      "iteracja 2 : 1.1141571408704085\n",
      "iteracja 3 : 1.11415714087193\n",
      "iteracja 4 : 1.1141571408719302\n",
      "iteracja 5 : 1.11415714087193\n",
      "iteracja 6 : 1.1141571408719302\n",
      "iteracja 7 : 1.11415714087193\n",
      "iteracja 8 : 1.1141571408719302\n",
      "c: podwójna precyzja -  8\n"
     ]
    }
   ],
   "source": [
    "print(\"a: pojedyncza precyzja -  \", NewtonRaphson(f_a, f_a_der, 2.125, 24))\n",
    "print(\"a: podwójna precycja - \", NewtonRaphson(f_a, f_a_der, 2.125, 53))\n",
    "print()\n",
    "print(\"b: pojedyncza precyzja - \", NewtonRaphson(f_b, f_b_der, 0.5625, 24))\n",
    "print(\"b: podwójna precycja - \", NewtonRaphson(f_b, f_b_der, 0.5625, 53))\n",
    "print()\n",
    "print(\"c: pojedyncza precyzja - \", NewtonRaphson(f_c, f_c_der, 1.125, 24))\n",
    "print(\"c: podwójna precyzja - \", NewtonRaphson(f_c, f_c_der, 1.125, 53))"
   ]
  },
  {
   "attachments": {},
   "cell_type": "markdown",
   "metadata": {},
   "source": [
    "Rząd zbieżności metody Newtona-Raphsona wynosi r = 2, co oznacza, że z każdą iteracją powinniśmy uzyskać wynik dwukrotnie lepszy. Więc jeśli x_0 jest przybliżeniem z dokładnością do 4 bitów, to aby uzyskać dokładność 24 bitów musimy wykonać 3 iteracje, natomiast dla podwójnej precyzji 53 bitów wystarczą 4 iteracje.\n",
    "\n",
    "iteracja 1 : 2.095060893098782  \n",
    "iteracja 2 : 2.0945516275753544  \n",
    "iteracja 3 : 2.0945514815423385  \n",
    "iteracja 4 : 2.0945514815423265  \n",
    "a: pojedyncza precyzja -   4  \n",
    "iteracja 1 : 2.095060893098782  \n",
    "iteracja 2 : 2.0945516275753544  \n",
    "iteracja 3 : 2.0945514815423385  \n",
    "iteracja 4 : 2.0945514815423265  \n",
    "iteracja 5 : 2.0945514815423265  \n",
    "a: podwójna precycja -  5  \n",
    "\n",
    "W przykładzie a) obie zarówno dokładność 24 jak i 53 bitów otrzymujemu po 4 iteracjach\n",
    "  \n",
    "iteracja 1 : 0.5671393836244013  \n",
    "iteracja 2 : 0.567143290407022  \n",
    "iteracja 3 : 0.5671432904097838  \n",
    "b: pojedyncza precyzja -  3  \n",
    "iteracja 1 : 0.5671393836244013  \n",
    "iteracja 2 : 0.567143290407022  \n",
    "iteracja 3 : 0.5671432904097838  \n",
    "iteracja 4 : 0.567143290409784  \n",
    "b: podwójna precycja -  4  \n",
    "\n",
    "w przykładzie wszystko zgadza się z przewidywaniami\n",
    "  \n",
    "iteracja 1 : 1.114151159334629  \n",
    "iteracja 2 : 1.1141571408704085  \n",
    "iteracja 3 : 1.11415714087193  \n",
    "c: pojedyncza precyzja -  3  \n",
    "iteracja 1 : 1.114151159334629  \n",
    "iteracja 2 : 1.1141571408704085  \n",
    "iteracja 3 : 1.11415714087193  \n",
    "iteracja 4 : 1.1141571408719302  \n",
    "iteracja 5 : 1.11415714087193  \n",
    "iteracja 6 : 1.1141571408719302  \n",
    "iteracja 7 : 1.11415714087193  \n",
    "iteracja 8 : 1.1141571408719302  \n",
    "c: podwójna precyzja -  8  \n",
    "\n",
    "w przykładzie c obie dokładności otrzymujemy po 3 iteracjach"
   ]
  },
  {
   "attachments": {},
   "cell_type": "markdown",
   "metadata": {},
   "source": [
    "### Wnioski\n",
    "\n",
    "Metoda Newtona-Raphsona już po kilku iteracjach daje nam bardzo dobre przybliżenie szukanego pierwiastka. "
   ]
  },
  {
   "attachments": {},
   "cell_type": "markdown",
   "metadata": {},
   "source": [
    "## Zadanie 3"
   ]
  },
  {
   "attachments": {},
   "cell_type": "markdown",
   "metadata": {},
   "source": [
    "Napisz  schemat  iteracji  wg  metody  Newtona  dla  następującego układu równań nieliniowych:\n",
    "$$ x_1^2+x_2^2= 1, \n",
    "x_1^2−x_2= 0 $$"
   ]
  },
  {
   "attachments": {},
   "cell_type": "markdown",
   "metadata": {},
   "source": [
    "Tworzymy układ równań"
   ]
  },
  {
   "cell_type": "code",
   "execution_count": 242,
   "metadata": {},
   "outputs": [],
   "source": [
    "def F(x1, x2):\n",
    "    return np.array([x1**2 + x2**2 - 1, x1**2 - x2])"
   ]
  },
  {
   "attachments": {},
   "cell_type": "markdown",
   "metadata": {},
   "source": [
    "Na podstawie informacji podanych w literaturze, tworzymy macierz jakobiego:"
   ]
  },
  {
   "cell_type": "code",
   "execution_count": 243,
   "metadata": {},
   "outputs": [],
   "source": [
    "def jacobian(x1, x2):\n",
    "    return np.array([[2*x1, 2*x2], [2*x1, -1]])"
   ]
  },
  {
   "attachments": {},
   "cell_type": "markdown",
   "metadata": {},
   "source": [
    "Definiujemy funkcję odpowiedzialną za rozwiązanie iteracyjne rozwiązanie układu metodą N-R"
   ]
  },
  {
   "cell_type": "code",
   "execution_count": 244,
   "metadata": {},
   "outputs": [],
   "source": [
    "def solve_nonlinear_system(X0, eps, iter):\n",
    "    X = X0\n",
    "    for _ in range(iter):\n",
    "        J = jacobian(X[0], X[1])\n",
    "        F_X = F(X[0], X[1])\n",
    "        S = np.linalg.solve(J, -F_X)\n",
    "        X = X + S\n",
    "        if np.linalg.norm(S) < eps:\n",
    "            break\n",
    "    return X"
   ]
  },
  {
   "cell_type": "code",
   "execution_count": 245,
   "metadata": {},
   "outputs": [
    {
     "name": "stdout",
     "output_type": "stream",
     "text": [
      "Przybliżenie:  [-0.78615138  0.61803399]\n",
      "Wartość prawdziwa:  [-0.78615138  0.61803399]\n",
      "Błąd względny:  1.1102230246251565e-16\n"
     ]
    }
   ],
   "source": [
    "newton_sol = solve_nonlinear_system(np.array([-1.0, 1.0]), 1e-10, 100)\n",
    "exact_sol = np.array([-np.sqrt((np.sqrt(5)/2)-1/2), np.sqrt(5)/2 - 1/2])\n",
    "\n",
    "err = np.linalg.norm(newton_sol-exact_sol)/np.linalg.norm(exact_sol)\n",
    "\n",
    "print(\"Przybliżenie: \", newton_sol)\n",
    "print(\"Wartość prawdziwa: \", exact_sol)\n",
    "print(\"Błąd względny: \", err)"
   ]
  },
  {
   "attachments": {},
   "cell_type": "markdown",
   "metadata": {},
   "source": [
    "### Wnioski\n",
    "\n",
    "Błąd względny metody jest niemalże zerowy, co pokazuje, że rozwiązywanie układów równań nieliniowych za pomocą metody Newtona-Raphsona jest bardzo dokładne."
   ]
  },
  {
   "attachments": {},
   "cell_type": "markdown",
   "metadata": {},
   "source": [
    "## Literatura:\n",
    "\n",
    "- https://heath.cs.illinois.edu/scicomp/notes/cs450_chapt05.pdf"
   ]
  }
 ],
 "metadata": {
  "kernelspec": {
   "display_name": "Python 3",
   "language": "python",
   "name": "python3"
  },
  "language_info": {
   "codemirror_mode": {
    "name": "ipython",
    "version": 3
   },
   "file_extension": ".py",
   "mimetype": "text/x-python",
   "name": "python",
   "nbconvert_exporter": "python",
   "pygments_lexer": "ipython3",
   "version": "3.10.10"
  },
  "orig_nbformat": 4
 },
 "nbformat": 4,
 "nbformat_minor": 2
}
