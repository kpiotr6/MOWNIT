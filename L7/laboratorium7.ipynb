{
 "cells": [
  {
   "cell_type": "code",
   "execution_count": 1,
   "metadata": {},
   "outputs": [],
   "source": [
    "import numpy as np\n",
    "import scipy.integrate as integrate\n",
    "from math import pi as PI\n",
    "from math import log\n",
    "import matplotlib.pyplot as plt"
   ]
  },
  {
   "cell_type": "code",
   "execution_count": 2,
   "metadata": {},
   "outputs": [],
   "source": [
    "def integrate_rectangle(f, start, end, no_points):\n",
    "    i = start\n",
    "    output = 0.0\n",
    "    interval = (end - start)/ no_points\n",
    "    while i < end:\n",
    "        output += interval*f(i+interval/2) if i + interval < end else (end-i)*f(i+interval/2)\n",
    "        i += interval\n",
    "    return output"
   ]
  },
  {
   "cell_type": "code",
   "execution_count": 3,
   "metadata": {},
   "outputs": [],
   "source": [
    "def gauss_legendre(f: callable, a, b, n):\n",
    "    # Calculate the nodes and weights of the Gauss-Legendre quadrature\n",
    "    nodes, weights = np.polynomial.legendre.leggauss(n)\n",
    "\n",
    "    # Map the nodes \n",
    "    mapped_nodes = ((b - a) * nodes + b*r[1] - a*r[0]) / (r[1] - r[0])\n",
    "    mapped_weights = (b - a) / (r[1] - r[0]) * weights\n",
    "    \n",
    "    # Calculate the integral\n",
    "    integral = sum(mapped_weights * f(mapped_nodes))\n",
    "    \n",
    "    return integral\n"
   ]
  },
  {
   "cell_type": "code",
   "execution_count": 4,
   "metadata": {},
   "outputs": [],
   "source": [
    "def fkfun(x0,a):\n",
    "    return (1/np.sqrt(a))*(np.arctan((1-x0)/np.sqrt(a))+np.arctan(x0/np.sqrt(a)))"
   ]
  },
  {
   "attachments": {},
   "cell_type": "markdown",
   "metadata": {},
   "source": [
    "# Funkcja 4/(1+x^2)"
   ]
  },
  {
   "cell_type": "code",
   "execution_count": 5,
   "metadata": {},
   "outputs": [],
   "source": [
    "def f1(x):\n",
    "    return 4/(1 + x*x)"
   ]
  },
  {
   "cell_type": "code",
   "execution_count": 6,
   "metadata": {},
   "outputs": [],
   "source": [
    "def f2(x):\n",
    "    if x ==0:\n",
    "        return 0\n",
    "    return np.sqrt(x)*np.log(x)"
   ]
  },
  {
   "cell_type": "code",
   "execution_count": 7,
   "metadata": {},
   "outputs": [],
   "source": [
    "def f3(x):\n",
    "    return 1/((x-0.3)**2+0.001) + 1/((x-0.9)**2+0.004) - 6"
   ]
  },
  {
   "cell_type": "code",
   "execution_count": 8,
   "metadata": {},
   "outputs": [],
   "source": [
    "def integrate_all(f,rval):\n",
    "    n = 26\n",
    "    y_M = np.zeros(n)\n",
    "    y_T = np.zeros(n)\n",
    "    y_S = np.zeros(n)\n",
    "    err_M = []\n",
    "    err_T = []\n",
    "    err_S = []\n",
    "    hs = np.empty(n)\n",
    "    for m in range(1, n):\n",
    "        x_space = np.linspace(0, 1, 2**m + 1)\n",
    "        y_space = np.array([f(x) for x in x_space])\n",
    "        hs[m] = ( 1/(2**m+1))\n",
    "        y_M[m] = integrate_rectangle(f, 0, 1, 2**m + 1)\n",
    "        y_T[m] = integrate.trapz(y_space, x_space)\n",
    "        y_S[m] = integrate.simps(y_space, x_space)\n",
    "        # print(\"m =\", m, \"M :\", y_M[m], \", T : \", y_T[m], \", S : \", y_S[m])\n",
    "        err_M.append((abs(rval - y_M[m])/rval))\n",
    "        err_T.append((abs(rval - y_T[m])/rval))\n",
    "        err_S.append((abs(rval - y_S[m])/rval))\n",
    "\n",
    "    th_mid = log(err_M[5]/err_M[4])/log(hs[5]/hs[4])\n",
    "    th_tra = log(err_T[5]/err_T[4])/log(hs[5]/hs[4])\n",
    "    th_sim = log(err_S[5]/err_S[4])/log(hs[5]/hs[4])\n",
    "    print(\"Rząd zbieżności emrvalryczny - prostokąty\", round(th_mid, 2))\n",
    "    print(\"Rząd zbieżności emrvalryczny - trapezy\", round(th_tra, 2))\n",
    "    print(\"Rząd zbieżności emrvalryczny - Simpson\", round(th_sim, 2))\n",
    "\n",
    "\n",
    "    hmin_m = hs[err_M.index(min(err_M))]\n",
    "    hmin_t = hs[err_T.index(min(err_T))]\n",
    "    hmin_s = hs[err_S.index(min(err_S))]\n",
    "    print(\"hmin - prostokąty\", \"{:.3}\".format(hmin_m))\n",
    "    print(\"hmin - trapezy\", \"{:.3}\".format(hmin_t))\n",
    "    print(\"hmin - Simpson\", \"{:.3}\".format(hmin_s))\n",
    "\n",
    "    n = 10\n",
    "    err_GL = np.empty(n)\n",
    "    n_space = np.empty(n)\n",
    "    for m in range(1, n):\n",
    "        err_GL[m] = (abs(integrate.fixed_quad(f, 0, 1, n=2**m+1)[0] - rval)/(rval))\n",
    "        n_space[m] = (m)\n",
    "\n",
    "\n",
    "    n = 15\n",
    "    y_AT = np.empty(n)\n",
    "    y_AG = np.empty(n)\n",
    "    err_AT = np.empty(n)\n",
    "    err_AG = np.empty(n)\n",
    "    for m in range(n):\n",
    "        x_space = np.linspace(0, 1, 2**m + 1)\n",
    "        y_space = np.array([f(x) for x in x_space])\n",
    "        tol = 10**-m\n",
    "        y_AT[m],err_AT[m] = integrate.quad_vec(f,0,1,epsrel=tol,quadrature='trapezoid')\n",
    "        y_AG[m],err_AT[m] = integrate.quad_vec(f,0,1,epsrel=tol,quadrature='gk21')\n",
    "\n",
    "\n",
    "    x_26 = [i for i in range(25)]\n",
    "    x_10 = [i for i in range(10)]\n",
    "    x_15 = [i for i in range(15)]\n",
    "    plt.scatter(x_26, err_M, label=\"Prostokąty\")\n",
    "    plt.scatter(x_26, err_T, label=\"Trapezy\")\n",
    "    plt.scatter(x_26, err_S, label=\"Simpson\")\n",
    "    plt.scatter(x_10, err_GL, label=\"Gauss-Legendre\")\n",
    "    plt.scatter(x_15, err_AT, label=\"Adaptacyjne trapezy\")\n",
    "    plt.scatter(x_15, err_AG, label=\"Adaptacyjne Gauss-Kronrod\")\n",
    "    plt.semilogy()\n",
    "    plt.legend()"
   ]
  },
  {
   "cell_type": "code",
   "execution_count": 9,
   "metadata": {},
   "outputs": [
    {
     "name": "stdout",
     "output_type": "stream",
     "text": [
      "Rząd zbieżności emrvalryczny - prostokąty 2.04\n",
      "Rząd zbieżności emrvalryczny - trapezy 2.09\n",
      "Rząd zbieżności emrvalryczny - Simpson 6.27\n",
      "hmin - prostokąty 4.77e-07\n",
      "hmin - trapezy 2.38e-07\n",
      "hmin - Simpson 0.00775\n"
     ]
    },
    {
     "data": {
      "image/png": "[encoded data removed]",
      "text/plain": [
       "<Figure size 640x480 with 1 Axes>"
      ]
     },
     "metadata": {},
     "output_type": "display_data"
    }
   ],
   "source": [
    "integrate_all(f1,PI)"
   ]
  },
  {
   "cell_type": "code",
   "execution_count": 10,
   "metadata": {},
   "outputs": [
    {
     "name": "stdout",
     "output_type": "stream",
     "text": [
      "Rząd zbieżności emrvalryczny - prostokąty 1.29\n",
      "Rząd zbieżności emrvalryczny - trapezy 1.39\n",
      "Rząd zbieżności emrvalryczny - Simpson 1.42\n",
      "hmin - prostokąty 0.0\n",
      "hmin - trapezy 0.0\n",
      "hmin - Simpson 0.0\n"
     ]
    },
    {
     "ename": "ValueError",
     "evalue": "The truth value of an array with more than one element is ambiguous. Use a.any() or a.all()",
     "output_type": "error",
     "traceback": [
      "\u001b[0;31m---------------------------------------------------------------------------\u001b[0m",
      "\u001b[0;31mValueError\u001b[0m                                Traceback (most recent call last)",
      "Cell \u001b[0;32mIn[10], line 1\u001b[0m\n\u001b[0;32m----> 1\u001b[0m integrate_all(f2,\u001b[39m-\u001b[39;49m\u001b[39m4\u001b[39;49m\u001b[39m/\u001b[39;49m\u001b[39m9\u001b[39;49m)\n",
      "Cell \u001b[0;32mIn[8], line 41\u001b[0m, in \u001b[0;36mintegrate_all\u001b[0;34m(f, rval)\u001b[0m\n\u001b[1;32m     39\u001b[0m n_space \u001b[39m=\u001b[39m np\u001b[39m.\u001b[39mempty(n)\n\u001b[1;32m     40\u001b[0m \u001b[39mfor\u001b[39;00m m \u001b[39min\u001b[39;00m \u001b[39mrange\u001b[39m(\u001b[39m1\u001b[39m, n):\n\u001b[0;32m---> 41\u001b[0m     err_GL[m] \u001b[39m=\u001b[39m (\u001b[39mabs\u001b[39m(integrate\u001b[39m.\u001b[39;49mfixed_quad(f, \u001b[39m0\u001b[39;49m, \u001b[39m1\u001b[39;49m, n\u001b[39m=\u001b[39;49m\u001b[39m2\u001b[39;49m\u001b[39m*\u001b[39;49m\u001b[39m*\u001b[39;49mm\u001b[39m+\u001b[39;49m\u001b[39m1\u001b[39;49m)[\u001b[39m0\u001b[39m] \u001b[39m-\u001b[39m rval)\u001b[39m/\u001b[39m(rval))\n\u001b[1;32m     42\u001b[0m     n_space[m] \u001b[39m=\u001b[39m (m)\n\u001b[1;32m     45\u001b[0m n \u001b[39m=\u001b[39m \u001b[39m15\u001b[39m\n",
      "File \u001b[0;32m~/programowanie/MOWNIT/.venv/lib/python3.10/site-packages/scipy/integrate/_quadrature.py:245\u001b[0m, in \u001b[0;36mfixed_quad\u001b[0;34m(func, a, b, args, n)\u001b[0m\n\u001b[1;32m    242\u001b[0m     \u001b[39mraise\u001b[39;00m \u001b[39mValueError\u001b[39;00m(\u001b[39m\"\u001b[39m\u001b[39mGaussian quadrature is only available for \u001b[39m\u001b[39m\"\u001b[39m\n\u001b[1;32m    243\u001b[0m                      \u001b[39m\"\u001b[39m\u001b[39mfinite limits.\u001b[39m\u001b[39m\"\u001b[39m)\n\u001b[1;32m    244\u001b[0m y \u001b[39m=\u001b[39m (b\u001b[39m-\u001b[39ma)\u001b[39m*\u001b[39m(x\u001b[39m+\u001b[39m\u001b[39m1\u001b[39m)\u001b[39m/\u001b[39m\u001b[39m2.0\u001b[39m \u001b[39m+\u001b[39m a\n\u001b[0;32m--> 245\u001b[0m \u001b[39mreturn\u001b[39;00m (b\u001b[39m-\u001b[39ma)\u001b[39m/\u001b[39m\u001b[39m2.0\u001b[39m \u001b[39m*\u001b[39m np\u001b[39m.\u001b[39msum(w\u001b[39m*\u001b[39mfunc(y, \u001b[39m*\u001b[39;49margs), axis\u001b[39m=\u001b[39m\u001b[39m-\u001b[39m\u001b[39m1\u001b[39m), \u001b[39mNone\u001b[39;00m\n",
      "Cell \u001b[0;32mIn[6], line 2\u001b[0m, in \u001b[0;36mf2\u001b[0;34m(x)\u001b[0m\n\u001b[1;32m      1\u001b[0m \u001b[39mdef\u001b[39;00m \u001b[39mf2\u001b[39m(x):\n\u001b[0;32m----> 2\u001b[0m     \u001b[39mif\u001b[39;00m x \u001b[39m==\u001b[39m\u001b[39m0\u001b[39m:\n\u001b[1;32m      3\u001b[0m         \u001b[39mreturn\u001b[39;00m \u001b[39m0\u001b[39m\n\u001b[1;32m      4\u001b[0m     \u001b[39mreturn\u001b[39;00m np\u001b[39m.\u001b[39msqrt(x)\u001b[39m*\u001b[39mnp\u001b[39m.\u001b[39mlog(x)\n",
      "\u001b[0;31mValueError\u001b[0m: The truth value of an array with more than one element is ambiguous. Use a.any() or a.all()"
     ]
    }
   ],
   "source": [
    "integrate_all(f2,-4/9)"
   ]
  },
  {
   "cell_type": "code",
   "execution_count": null,
   "metadata": {},
   "outputs": [
    {
     "name": "stdout",
     "output_type": "stream",
     "text": [
      "m = 1 M : 63.17079309515506 , T :  30.664588319995403 , S :  28.605660506013194\n",
      "m = 2 M : 262.1773265025572 , T :  95.00949555249917 , S :  116.45779796333376\n",
      "m = 3 M : 131.61565923280892 , T :  98.12515891552175 , S :  99.16371336986259\n",
      "m = 4 M : 123.02143909921084 , T :  130.02047539563603 , S :  140.6522475556741\n",
      "m = 5 M : 128.0577604394379 , T :  127.87680309654799 , S :  127.16224566351863\n",
      "m = 6 M : 128.25547481608078 , T :  128.2219587002949 , S :  128.33701056821053\n",
      "m = 7 M : 128.24690629919866 , T :  128.2385503172138 , S :  128.24408085618677\n",
      "m = 8 M : 128.24484496952775 , T :  128.24274991081188 , S :  128.24414977534457\n",
      "m = 9 M : 128.244324644581 , T :  128.2438001587078 , S :  128.24415024133978\n",
      "m = 10 M : 128.24419395182755 , T :  128.24406274253505 , S :  128.24415027047746\n",
      "m = 11 M : 128.24416120301865 , T :  128.2441283898575 , S :  128.2441502722983\n",
      "m = 12 M : 128.24415300640757 , T :  128.24414480177342 , S :  128.24415027241207\n",
      "m = 13 M : 128.24415095608407 , T :  128.24414890475776 , S :  128.2441502724192\n",
      "m = 14 M : 128.24415044332818 , T :  128.2441499305042 , S :  128.24415027241966\n",
      "m = 15 M : 128.2441503151525 , T :  128.2441501869408 , S :  128.2441502724197\n",
      "m = 16 M : 128.24415028310418 , T :  128.24415025104997 , S :  128.2441502724197\n",
      "m = 17 M : 128.24415027509167 , T :  128.24415026707726 , S :  128.2441502724197\n",
      "m = 18 M : 128.24415027365464 , T :  128.2441502710841 , S :  128.2441502724197\n",
      "m = 19 M : 128.24415027304988 , T :  128.2441502720858 , S :  128.24415027241966\n",
      "m = 20 M : 128.24415027257754 , T :  128.2441502723362 , S :  128.2441502724197\n",
      "m = 21 M : 128.24415027246013 , T :  128.2441502723987 , S :  128.24415027241963\n",
      "m = 22 M : 128.2441502724345 , T :  128.24415027241443 , S :  128.24415027241963\n"
     ]
    },
    {
     "ename": "KeyboardInterrupt",
     "evalue": "",
     "output_type": "error",
     "traceback": [
      "\u001b[0;31m---------------------------------------------------------------------------\u001b[0m",
      "\u001b[0;31mKeyboardInterrupt\u001b[0m                         Traceback (most recent call last)",
      "Cell \u001b[0;32mIn[71], line 2\u001b[0m\n\u001b[1;32m      1\u001b[0m rval \u001b[39m=\u001b[39m fkfun(\u001b[39m0.3\u001b[39m,\u001b[39m0.001\u001b[39m) \u001b[39m+\u001b[39m fkfun(\u001b[39m0.9\u001b[39m,\u001b[39m0.004\u001b[39m) \u001b[39m-\u001b[39m \u001b[39m6\u001b[39m\n\u001b[0;32m----> 2\u001b[0m integrate_all(f3,rval)\n",
      "Cell \u001b[0;32mIn[68], line 12\u001b[0m, in \u001b[0;36mintegrate_all\u001b[0;34m(f, rval)\u001b[0m\n\u001b[1;32m     10\u001b[0m \u001b[39mfor\u001b[39;00m m \u001b[39min\u001b[39;00m \u001b[39mrange\u001b[39m(\u001b[39m1\u001b[39m, n):\n\u001b[1;32m     11\u001b[0m     x_space \u001b[39m=\u001b[39m np\u001b[39m.\u001b[39mlinspace(\u001b[39m0\u001b[39m, \u001b[39m1\u001b[39m, \u001b[39m2\u001b[39m\u001b[39m*\u001b[39m\u001b[39m*\u001b[39mm \u001b[39m+\u001b[39m \u001b[39m1\u001b[39m)\n\u001b[0;32m---> 12\u001b[0m     y_space \u001b[39m=\u001b[39m np\u001b[39m.\u001b[39marray([f(x) \u001b[39mfor\u001b[39;00m x \u001b[39min\u001b[39;00m x_space])\n\u001b[1;32m     13\u001b[0m     hs[m] \u001b[39m=\u001b[39m ( \u001b[39m1\u001b[39m\u001b[39m/\u001b[39m(\u001b[39m2\u001b[39m\u001b[39m*\u001b[39m\u001b[39m*\u001b[39mm\u001b[39m+\u001b[39m\u001b[39m1\u001b[39m))\n\u001b[1;32m     14\u001b[0m     y_M[m] \u001b[39m=\u001b[39m integrate_rectangle(f, \u001b[39m0\u001b[39m, \u001b[39m1\u001b[39m, \u001b[39m2\u001b[39m\u001b[39m*\u001b[39m\u001b[39m*\u001b[39mm \u001b[39m+\u001b[39m \u001b[39m1\u001b[39m)\n",
      "Cell \u001b[0;32mIn[68], line 12\u001b[0m, in \u001b[0;36m<listcomp>\u001b[0;34m(.0)\u001b[0m\n\u001b[1;32m     10\u001b[0m \u001b[39mfor\u001b[39;00m m \u001b[39min\u001b[39;00m \u001b[39mrange\u001b[39m(\u001b[39m1\u001b[39m, n):\n\u001b[1;32m     11\u001b[0m     x_space \u001b[39m=\u001b[39m np\u001b[39m.\u001b[39mlinspace(\u001b[39m0\u001b[39m, \u001b[39m1\u001b[39m, \u001b[39m2\u001b[39m\u001b[39m*\u001b[39m\u001b[39m*\u001b[39mm \u001b[39m+\u001b[39m \u001b[39m1\u001b[39m)\n\u001b[0;32m---> 12\u001b[0m     y_space \u001b[39m=\u001b[39m np\u001b[39m.\u001b[39marray([f(x) \u001b[39mfor\u001b[39;00m x \u001b[39min\u001b[39;00m x_space])\n\u001b[1;32m     13\u001b[0m     hs[m] \u001b[39m=\u001b[39m ( \u001b[39m1\u001b[39m\u001b[39m/\u001b[39m(\u001b[39m2\u001b[39m\u001b[39m*\u001b[39m\u001b[39m*\u001b[39mm\u001b[39m+\u001b[39m\u001b[39m1\u001b[39m))\n\u001b[1;32m     14\u001b[0m     y_M[m] \u001b[39m=\u001b[39m integrate_rectangle(f, \u001b[39m0\u001b[39m, \u001b[39m1\u001b[39m, \u001b[39m2\u001b[39m\u001b[39m*\u001b[39m\u001b[39m*\u001b[39mm \u001b[39m+\u001b[39m \u001b[39m1\u001b[39m)\n",
      "\u001b[0;31mKeyboardInterrupt\u001b[0m: "
     ]
    }
   ],
   "source": [
    "rval = fkfun(0.3,0.001) + fkfun(0.9,0.004) - 6\n",
    "integrate_all(f3,rval)"
   ]
  }
 ],
 "metadata": {
  "kernelspec": {
   "display_name": ".venv",
   "language": "python",
   "name": "python3"
  },
  "language_info": {
   "codemirror_mode": {
    "name": "ipython",
    "version": 3
   },
   "file_extension": ".py",
   "mimetype": "text/x-python",
   "name": "python",
   "nbconvert_exporter": "python",
   "pygments_lexer": "ipython3",
   "version": "3.10.6"
  },
  "orig_nbformat": 4,
  "vscode": {
   "interpreter": {
    "hash": "44748bba30f56e191232589ecde99d077d95fe4c5aad201497a1434f1f47117c"
   }
  }
 },
 "nbformat": 4,
 "nbformat_minor": 2
}
