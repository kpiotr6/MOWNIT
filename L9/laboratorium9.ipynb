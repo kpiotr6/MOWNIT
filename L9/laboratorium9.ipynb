{
 "cells": [
  {
   "cell_type": "code",
   "execution_count": 115,
   "metadata": {},
   "outputs": [],
   "source": [
    "from scipy.integrate import odeint\n",
    "from scipy.optimize import fsolve\n",
    "import numpy as np\n",
    "import matplotlib.pyplot as plt"
   ]
  },
  {
   "attachments": {},
   "cell_type": "markdown",
   "metadata": {},
   "source": [
    "# Zadanie 1\n",
    "Zrobione\n"
   ]
  },
  {
   "attachments": {},
   "cell_type": "markdown",
   "metadata": {},
   "source": [
    "# Zadanie 2\n"
   ]
  },
  {
   "attachments": {},
   "cell_type": "markdown",
   "metadata": {},
   "source": [
    "|1+hk|<1\n",
    "Dla h = 0.5 i k = -5 nie jest spełnione, więc explicit euler method nie zadziała.\n",
    "|1/(1-hk)|<1 jest spełnione, więc implicit euler method jest stabilne \n"
   ]
  },
  {
   "cell_type": "code",
   "execution_count": 116,
   "metadata": {},
   "outputs": [],
   "source": [
    "def fval(y,t):\n",
    "    return -5*y\n",
    "\n",
    "def real_fval(x):\n",
    "    return np.e**(-5*x)\n",
    "\n",
    "     \n",
    "def euler_exp(y0, x0, t, h, end, f):\n",
    "    iters = int((end - x0)//h)+1\n",
    "    sol = np.empty(shape=iters)\n",
    "    xs = np.empty(shape=iters)\n",
    "    y = y0\n",
    "    sol[0] = y\n",
    "    xs[0] = x0\n",
    "    for i in range(1,iters):\n",
    "        y = y + h * f(y, t)\n",
    "        x0 = x0 + h\n",
    "        sol[i] = y\n",
    "        xs[i] = x0\n",
    "    return sol, xs\n",
    "\n",
    "\n",
    "def euler_imp_fval(y0, x0, h, end):\n",
    "    iters = int((end - x0)//h)+1\n",
    "    sol = np.empty(shape=iters)\n",
    "    xs = np.empty(shape=iters)\n",
    "    y = y0\n",
    "    sol[0] = y\n",
    "    xs[0] = x0\n",
    "    for i in range(1,iters):\n",
    "        y = y/(1+5*h)\n",
    "        x0 = x0 + h\n",
    "        sol[i] = y\n",
    "        xs[i] = x0\n",
    "    return sol, xs"
   ]
  },
  {
   "cell_type": "code",
   "execution_count": 117,
   "metadata": {},
   "outputs": [
    {
     "name": "stdout",
     "output_type": "stream",
     "text": [
      "19.27374094105521\n",
      "0.0820849986238988\n",
      "-1.5\n",
      "2.4807125602009923\n",
      "0.0820849986238988\n",
      "0.2857142857142857\n"
     ]
    }
   ],
   "source": [
    "# c\n",
    "rval = real_fval(0.5) \n",
    "y,x = euler_exp(1,0,0,0.5,0.5,fval)\n",
    "calc_val = np.interp(0.5,x,y)\n",
    "err = abs((rval-calc_val)/rval)\n",
    "print(err)\n",
    "print(rval)\n",
    "print(calc_val)\n",
    "\n",
    "# d\n",
    "\n",
    "y,x = euler_imp_fval(1,0,0.5,0.5)\n",
    "calc_val = np.interp(0.5,x,y)\n",
    "err = abs((rval-calc_val)/rval)\n",
    "print(err)\n",
    "print(rval)\n",
    "print(calc_val)"
   ]
  },
  {
   "attachments": {},
   "cell_type": "markdown",
   "metadata": {},
   "source": [
    "# Zadanie 3"
   ]
  },
  {
   "attachments": {},
   "cell_type": "markdown",
   "metadata": {},
   "source": []
  },
  {
   "cell_type": "code",
   "execution_count": 118,
   "metadata": {},
   "outputs": [],
   "source": [
    "# x1,x2,y1,y2 are previous values.\n",
    "def ode_vals(x1,x2,y1,y2):\n",
    "    mat = np.empty(shape=4)\n",
    "    tmp = (x1**2+y1**2)**(3/2)\n",
    "    mat[0] = x2\n",
    "    mat[1] = y2\n",
    "    mat[2] = -x1/tmp\n",
    "    mat[3] = -y1/tmp\n",
    "    return mat\n",
    "\n",
    "def euler_exp_mat(x1, x2, y1, y2, h, end, endx=True):\n",
    "    if endx:\n",
    "        iters = int((end - x1)//h)+1\n",
    "    else:\n",
    "        iters = int((end - y1)//h)+1\n",
    "    sol = np.empty(shape=iters,dtype='object')\n",
    "    sol[0] = (x1,x2,y1,y2)\n",
    "    for i in range(1,iters):\n",
    "        nval = ode_vals(x1,x2,y1,y2)\n",
    "        x1 = x1 + h * nval[0]\n",
    "        x2 = x2 + h * nval[1]\n",
    "        y1 = y1 + h * nval[2]\n",
    "        y2 = y2 + h * nval[3] \n",
    "        sol[i] = (x1,x2,y1,y2)\n",
    "    return sol"
   ]
  },
  {
   "cell_type": "code",
   "execution_count": 119,
   "metadata": {},
   "outputs": [
    {
     "name": "stdout",
     "output_type": "stream",
     "text": [
      "[(1, 0, 0, 1) (1.0, 0.1, -0.1, 1.0)\n",
      " (1.01, 0.2, -0.19851853368415737, 1.0098518533684158)\n",
      " (1.03, 0.3009851853368416, -0.2911298430768209, 1.0280548844012884)\n",
      " (1.0600985185336842, 0.4037906737769704, -0.3751252504762762, 1.0517962142802952)\n",
      " (1.1004775859113813, 0.5089702952049999, -0.4496762797255084, 1.0781767563067708)\n",
      " (1.1513746154318814, 0.616787970835677, -0.5151773281053638, 1.1049417428277646)\n",
      " (1.213053412515449, 0.7272821451184535, -0.5725469826371226, 1.130611533476148)\n",
      " (1.2857816270272944, 0.8403432984660683, -0.6228068606128351, 1.1543336063756688)\n",
      " (1.3698159568739012, 0.9557766591036352, -0.6668992385982574, 1.1756910709192747)\n",
      " (1.4653936227842648, 1.0733457661955628, -0.705634573255175, 1.194549491322334)\n",
      " (1.5727281994038211, 1.1928007153277962, -0.7396943846697397, 1.210950395570166)\n",
      " (1.6920082709366007, 1.3138957548848127, -0.7696521318480949, 1.2250402919512349)\n",
      " (1.823397846425082, 1.4363997840799363, -0.7959961527853806, 1.2370235264448874)\n",
      " (1.9670378248330755, 1.560102136724425, -0.819148958913427, 1.2471307801307703)\n",
      " (2.123048038505518, 1.684815214737502, -0.8394816138608943, 1.2555980667898752)\n",
      " (2.2915295599792684, 1.8103750214164895, -0.8573236911804866, 1.2626530629987343)\n",
      " (2.4725670621209175, 1.936640327716363, -0.8729698684406522, 1.268506724533727)\n",
      " (2.6662310948925536, 2.0634910001697357, -0.88668424551189, 1.2733487521296758)\n",
      " (2.8725801949095273, 2.1908258753827035, -0.8987032865592179, 1.277345815386211)\n",
      " (3.0916627824477976, 2.3185604569213245, -0.9092380337478638, 1.28064167182158)\n",
      " (3.32351882813993, 2.4466246241034826, -0.918476004019042, 1.283358499145981)\n",
      " (3.568181290550278, 2.5749604740180807, -0.926582992842543, 1.2855989181368983)\n",
      " (3.825677337952086, 2.7035203658317704, -0.9337048788304287, 1.287448324850289)\n",
      " (4.096029374535263, 2.8322651983167995, -0.9399694443113715, 1.2889772711875251)\n",
      " (4.379255894366943, 2.961162925435552, -0.9454881871386089, 1.290243729299585)\n",
      " (4.675372186910498, 3.0901872983655103, -0.9503580851372369, 1.291295147883321)\n",
      " (4.984390916747049, 3.2193168131538425, -0.9546632757772494, 1.2921702595469973)\n",
      " (5.306322598062433, 3.3485338391085424, -0.9584766220034953, 1.2929006319557481)\n",
      " (5.641175981973287, 3.477823902304117, -0.9618611456501868, 1.2935119756371813)\n",
      " (5.988958372203699, 3.607175099867835, -0.9648713197439568, 1.294025232006366)\n",
      " (6.349675882190483, 3.736577623068472, -0.9675542190111487, 1.294457469533461)\n",
      " (6.72333364449733, 3.866023370021818, -0.9699505337302562, 1.2948226164259273)\n",
      " (7.109935981499512, 3.9955056316644106, -0.9720954558729601, 1.2951320564280353)\n",
      " (7.509486544665953, 4.1250188373072145, -0.97401944862542, 1.295395111484602)\n",
      " (7.921988428396674, 4.254558348455674, -0.9757489112871313, 1.2956194317837542)\n",
      " (8.347444263242242, 4.38412029163405, -0.9773067515822502, 1.2958113105002735)\n",
      " (8.785856292405647, 4.513701422684077, -0.978712876893511, 1.2959759376264848)\n",
      " (9.237226434674055, 4.643299016446726, -0.9799846150737269, 1.2961176046981497)\n",
      " (9.701556336318728, 4.77291077691654, -0.9811370744706758, 1.2962398700216746)]\n"
     ]
    }
   ],
   "source": [
    "sol = euler_exp_mat(1,0,0,1,0.1,5)\n",
    "print(sol)"
   ]
  },
  {
   "cell_type": "code",
   "execution_count": 120,
   "metadata": {},
   "outputs": [],
   "source": [
    "def x1_or_y1(xy,h):\n",
    "    def t(x,h,prev):\n",
    "        return x-prev-h*x\n",
    "    return fsolve(t,xy,args=(h,xy))\n",
    "\n",
    "def x2_or_y2(xy,tk,h):\n",
    "    def t(x,h,prev,tk):\n",
    "        tmp = -x/((x**2+tk**2)**3/2)\n",
    "        return x-prev-h*(-x)/tmp\n",
    "    return fsolve(t,xy,args=(h,xy,tk))\n",
    "\n",
    "def euler_imp_mat(x1, x2, y1, y2, h, end, endx=True):\n",
    "    if endx:\n",
    "        iters = int((end - x1)//h)+1\n",
    "    else:\n",
    "        iters = int((end - y1)//h)+1\n",
    "    sol = np.empty(shape=iters,dtype='object')\n",
    "    sol[0] = (x1,x2,y1,y2)\n",
    "    for i in range(1,iters):\n",
    "        x1 = x1_or_y1(x1,h)[0]\n",
    "        x2 = x2_or_y2(x2,x1,h)[0]\n",
    "        y1 = x1_or_y1(y1,h)[0]\n",
    "        y2 = x2_or_y2(y2,y1,h)[0]\n",
    "        sol[i] = (x1,x2,y1,y2)\n",
    "    return sol"
   ]
  },
  {
   "cell_type": "code",
   "execution_count": 121,
   "metadata": {},
   "outputs": [
    {
     "name": "stderr",
     "output_type": "stream",
     "text": [
      "/tmp/ipykernel_409/120581214.py:9: RuntimeWarning: invalid value encountered in divide\n",
      "  return x-prev-h*(-x)/tmp\n",
      "/home/kmp/programowanie/MOWNIT/.venv/lib/python3.10/site-packages/scipy/optimize/_minpack_py.py:178: RuntimeWarning: The iteration is not making good progress, as measured by the \n",
      "  improvement from the last ten iterations.\n",
      "  warnings.warn(msg, RuntimeWarning)\n"
     ]
    }
   ],
   "source": [
    "sol = euler_imp_mat(1,0,0,1,0.1,5)\n",
    "# print(sol)"
   ]
  }
 ],
 "metadata": {
  "kernelspec": {
   "display_name": ".venv",
   "language": "python",
   "name": "python3"
  },
  "language_info": {
   "codemirror_mode": {
    "name": "ipython",
    "version": 3
   },
   "file_extension": ".py",
   "mimetype": "text/x-python",
   "name": "python",
   "nbconvert_exporter": "python",
   "pygments_lexer": "ipython3",
   "version": "3.10.6"
  },
  "orig_nbformat": 4,
  "vscode": {
   "interpreter": {
    "hash": "44748bba30f56e191232589ecde99d077d95fe4c5aad201497a1434f1f47117c"
   }
  }
 },
 "nbformat": 4,
 "nbformat_minor": 2
}
