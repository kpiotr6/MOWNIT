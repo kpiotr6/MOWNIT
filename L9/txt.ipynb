{
 "cells": [
  {
   "attachments": {},
   "cell_type": "markdown",
   "metadata": {},
   "source": [
    "# Laboratorium 9\n",
    "Sebastian Soczawa, Piotr Kuchta|"
   ]
  },
  {
   "cell_type": "code",
   "execution_count": 2,
   "metadata": {},
   "outputs": [],
   "source": [
    "from scipy.integrate import odeint\n",
    "from scipy.optimize import fsolve\n",
    "import numpy as np\n",
    "import matplotlib.pyplot as plt"
   ]
  },
  {
   "attachments": {},
   "cell_type": "markdown",
   "metadata": {},
   "source": [
    "# Zadanie 1\n",
    " Przedstaw każde z poniższych równań różniczkowych zwyczajnych\n",
    "jako równoważny układ równań pierwszego rzędu (ang. first-order system of\n",
    "ODEs):"
   ]
  },
  {
   "attachments": {},
   "cell_type": "markdown",
   "metadata": {},
   "source": [
    "## a) równanie Van der Pol’a:\n",
    "$$ y`` = y`(1 − y^2 ) − y$$ \n",
    "\n",
    "Układ równań pierwszego rzędu: \n",
    "\n",
    "$$\\begin{equation}\n",
    "\\begin{cases}\n",
    "y_1 = y`, \\\\\n",
    "y_1` = y_1(1 - y^2) - y.\n",
    "\\end{cases}\n",
    "\\end{equation}\n",
    "$$"
   ]
  },
  {
   "attachments": {},
   "cell_type": "markdown",
   "metadata": {},
   "source": [
    "## b) równanie Blasiusa:\n",
    "\n",
    "$$ y``` = -yy`` $$\n",
    "\n",
    "Układ równań pierwszego rzędu:\n",
    "\n",
    "$$\\begin{equation}\n",
    "y_1 = y, \\\\\n",
    "y_2 = y_1`, \\\\\n",
    "y_3 = y_2`\n",
    "\\end{equation}\n",
    "$$\n",
    "\n",
    "$$\\begin{equation}\n",
    "\\begin{cases}\n",
    "y_3` = -y_1 y_2`, \\\\\n",
    "y_2 = y_1`, \\\\\n",
    "y_1 = y\n",
    "\\end{cases}\n",
    "\\end{equation}\n",
    "$$"
   ]
  },
  {
   "attachments": {},
   "cell_type": "markdown",
   "metadata": {},
   "source": [
    "## c) II zasada dynamiki Newtona dla problemu dwóch ciał:\n",
    "\n",
    "$$ \\begin{align*}\n",
    "y_1`` = −GM y_1 /(y_1^2 + y_2^2)^{3/2}, \\\\\n",
    "y_2`` = −GM y_2 /(y_1^2 + y_2^2)^{3/2}.\n",
    "\\end{align*}\n",
    "$$\n",
    "Układ równań pierwszego rzędu:\n",
    "\n",
    "$$\\begin{equation}\n",
    "\\begin{cases}\n",
    "y_3 = y_1`, \\\\\n",
    "y_3` = -GM y_1 /(y_1^2 + y_2^2)^{3/2}, \\\\\n",
    "y_4 = y_2`, \\\\\n",
    "y_4` = -GM y_2 /(y_1^2 + y_2^2)^{3/2},\n",
    "\\end{cases}\n",
    "\\end{equation}\n",
    "$$"
   ]
  },
  {
   "attachments": {},
   "cell_type": "markdown",
   "metadata": {},
   "source": [
    "# Zadanie 2\n"
   ]
  },
  {
   "attachments": {},
   "cell_type": "markdown",
   "metadata": {},
   "source": [
    "Aby metoda jawna eulera była stabilna dla \n",
    "$$\\begin{equation}\n",
    "h = 0.5 \n",
    "\\end{equation}\n",
    "$$\n",
    "$$\\begin{equation}\n",
    "k = -5\n",
    "\\end{equation}\n",
    "$$\n",
    "Musi zachodzić zależność\n",
    "$$\\begin{equation}\n",
    "|1+hk|<1\n",
    "\\end{equation}\n",
    "$$\n",
    "\n",
    "\n"
   ]
  },
  {
   "attachments": {},
   "cell_type": "markdown",
   "metadata": {},
   "source": [
    "Warunek nie jest spełniony więc możemy spodziewać się że wynik przybliżony będzie znacząco różnił się od wartości rzeczywistej"
   ]
  },
  {
   "cell_type": "code",
   "execution_count": 4,
   "metadata": {},
   "outputs": [
    {
     "name": "stdout",
     "output_type": "stream",
     "text": [
      "19.27374094105521\n",
      "0.0820849986238988\n",
      "-1.5\n"
     ]
    }
   ],
   "source": [
    "def fval(y,t):\n",
    "    return -5*y\n",
    "\n",
    "def real_fval(x):\n",
    "    return np.e**(-5*x)\n",
    "\n",
    "     \n",
    "def euler_exp(y0, x0, t, h, end, f):\n",
    "    iters = int((end - x0)//h)+1\n",
    "    sol = np.empty(shape=iters)\n",
    "    xs = np.empty(shape=iters)\n",
    "    y = y0\n",
    "    sol[0] = y\n",
    "    xs[0] = x0\n",
    "    for i in range(1,iters):\n",
    "        y = y + h * f(y, t)\n",
    "        x0 = x0 + h\n",
    "        sol[i] = y\n",
    "        xs[i] = x0\n",
    "    return sol, xs\n",
    "#c\n",
    "rval = real_fval(0.5) \n",
    "y,x = euler_exp(1,0,0,0.5,0.5,fval)\n",
    "calc_val = np.interp(0.5,x,y)\n",
    "err = abs((rval-calc_val)/rval)\n",
    "print(err)\n",
    "print(rval)\n",
    "print(calc_val)"
   ]
  },
  {
   "attachments": {},
   "cell_type": "markdown",
   "metadata": {},
   "source": [
    "\n",
    "Dla\n",
    "$$\\begin{equation}\n",
    "h = 0.5 \n",
    "\\end{equation}\n",
    "$$\n",
    "$$\\begin{equation}\n",
    "k = -5\n",
    "\\end{equation}\n",
    "$$\n",
    "Spełniony jestwarunek\n",
    "$$\n",
    "\\begin{equation}\n",
    "|\\frac{1}{1+hk}|<1\n",
    "\\end{equation}\n",
    "$$\n",
    "Wynika z tego że metoda niejawna eulera powinna być stabilna\n"
   ]
  },
  {
   "cell_type": "code",
   "execution_count": 5,
   "metadata": {},
   "outputs": [
    {
     "name": "stdout",
     "output_type": "stream",
     "text": [
      "2.4807125602009923\n",
      "0.0820849986238988\n",
      "0.2857142857142857\n"
     ]
    }
   ],
   "source": [
    "def euler_imp_fval(y0, x0, h, end):\n",
    "    iters = int((end - x0)//h)+1\n",
    "    sol = np.empty(shape=iters)\n",
    "    xs = np.empty(shape=iters)\n",
    "    y = y0\n",
    "    sol[0] = y\n",
    "    xs[0] = x0\n",
    "    for i in range(1,iters):\n",
    "        y = y/(1+5*h)\n",
    "        x0 = x0 + h\n",
    "        sol[i] = y\n",
    "        xs[i] = x0\n",
    "    return sol, xs\n",
    "\n",
    "# d\n",
    "y,x = euler_imp_fval(1,0,0.5,0.5)\n",
    "calc_val = np.interp(0.5,x,y)\n",
    "err = abs((rval-calc_val)/rval)\n",
    "print(err)\n",
    "print(rval)\n",
    "print(calc_val)"
   ]
  },
  {
   "attachments": {},
   "cell_type": "markdown",
   "metadata": {},
   "source": [
    "## Wnioski\n",
    "Dla danego h metoda jawna Eulera jest niestabilna, a metoda niejawna Eulera jest stabilna."
   ]
  },
  {
   "attachments": {},
   "cell_type": "markdown",
   "metadata": {},
   "source": [
    "# Zadanie 3"
   ]
  },
  {
   "attachments": {},
   "cell_type": "markdown",
   "metadata": {},
   "source": [
    "## Metoda jawna eulera"
   ]
  },
  {
   "cell_type": "code",
   "execution_count": null,
   "metadata": {},
   "outputs": [
    {
     "ename": "",
     "evalue": "",
     "output_type": "error",
     "traceback": [
      "\u001b[1;31mRunning cells with '/usr/bin/python' requires the ipykernel package.\n",
      "\u001b[1;31mRun the following command to install 'ipykernel' into the Python environment. \n",
      "\u001b[1;31mCommand: '/usr/bin/python -m pip install ipykernel -U --user --force-reinstall'"
     ]
    }
   ],
   "source": [
    "# x1,x2,y1,y2 are previous values.\n",
    "def ode_vals(x1,x2,y1,y2):\n",
    "    mat = np.empty(shape=4)\n",
    "    tmp = (x1**2+y1**2)**(3/2)\n",
    "    mat[0] = x2\n",
    "    mat[1] = -x1/tmp\n",
    "    mat[2] = y2\n",
    "    mat[3] = -y1/tmp\n",
    "    return mat\n",
    "\n",
    "def euler_exp_mat(x1, x2, y1, y2, h, t, end, endx=True):\n",
    "    if endx:\n",
    "        iters = int((end - x1)//h)+1\n",
    "    else:\n",
    "        iters = int((end - y1)//h)+1\n",
    "    t = 0\n",
    "    sol = np.empty(shape=iters,dtype='object')\n",
    "    sol[0] = (x1,x2,y1,y2,t)\n",
    "    for i in range(1,iters):\n",
    "        nval = ode_vals(x1,x2,y1,y2)\n",
    "        x1 = x1 + h * nval[0]\n",
    "        x2 = x2 + h * nval[1]\n",
    "        y1 = y1 + h * nval[2]\n",
    "        y2 = y2 + h * nval[3]\n",
    "        t = t + h\n",
    "        sol[i] = (x1,x2,y1,y2,t)\n",
    "    return sol"
   ]
  },
  {
   "cell_type": "code",
   "execution_count": null,
   "metadata": {},
   "outputs": [
    {
     "ename": "",
     "evalue": "",
     "output_type": "error",
     "traceback": [
      "\u001b[1;31mRunning cells with '/usr/bin/python' requires the ipykernel package.\n",
      "\u001b[1;31mRun the following command to install 'ipykernel' into the Python environment. \n",
      "\u001b[1;31mCommand: '/usr/bin/python -m pip install ipykernel -U --user --force-reinstall'"
     ]
    }
   ],
   "source": [
    "\n",
    "sol = euler_exp_mat(1,0,0,1,0.0001,0,30)\n",
    "y,x,y_der,x_der,t,v,r = [i[0] for i in sol],[i[2] for i in sol],[i[1] for i in sol],[i[3] for i in sol],[i[4] for i in sol],[(i[1]**2+i[3]**2)**(1/2) for i in sol],[(i[0]**2+i[2]**2)**(1/2) for i in sol]\n",
    "\n",
    "plt.plot(x,y)\n",
    "plt.title(\"Zależność współrzędnych y od x\")\n",
    "plt.xlabel(\"x\")\n",
    "plt.ylabel(\"y\")\n",
    "plt.show()\n",
    "\n",
    "plt.plot(t,y)\n",
    "plt.title(\"Zależność współrzędnych y od t\")\n",
    "plt.xlabel(\"t\")\n",
    "plt.ylabel(\"y\")\n",
    "plt.show()\n",
    "\n",
    "plt.plot(t,x)\n",
    "plt.title(\"Zależność współrzędnych x od t\")\n",
    "plt.xlabel(\"t\")\n",
    "plt.ylabel(\"x\")\n",
    "plt.show()\n",
    "\n",
    "plt.plot(r,v)\n",
    "plt.title(\"Zależność prędkości od promienia\")\n",
    "plt.xlabel(\"r\")\n",
    "plt.ylabel(\"v\")\n",
    "plt.show()\n",
    "# Energy\n",
    "eval = [(x_der[i]**2+y_der[i]**2)/2-1/r[i] for i in range(len(r))]\n",
    "plt.plot(t,eval)\n",
    "plt.title(\"Zależność energii od czasu\")\n",
    "plt.xlabel(\"E\")\n",
    "plt.ylabel(\"t\")\n",
    "plt.show()\n",
    "# Momentum\n",
    "pval = [x[i]*y_der[i]-y[i]*x_der[i] for i in range(len(x))]\n",
    "plt.plot(t,pval)\n",
    "plt.title(\"Zależność Pędu od czasu\")\n",
    "plt.xlabel(\"p\")\n",
    "plt.ylabel(\"t\")\n",
    "plt.show()"
   ]
  },
  {
   "attachments": {},
   "cell_type": "markdown",
   "metadata": {},
   "source": [
    "## Metoda niejawna Eulera"
   ]
  },
  {
   "cell_type": "code",
   "execution_count": null,
   "metadata": {},
   "outputs": [
    {
     "ename": "",
     "evalue": "",
     "output_type": "error",
     "traceback": [
      "\u001b[1;31mRunning cells with '/usr/bin/python' requires the ipykernel package.\n",
      "\u001b[1;31mRun the following command to install 'ipykernel' into the Python environment. \n",
      "\u001b[1;31mCommand: '/usr/bin/python -m pip install ipykernel -U --user --force-reinstall'"
     ]
    }
   ],
   "source": [
    "def solve_imp(vars,px1,px2,py1,py2,h):\n",
    "    x1,x2,y1,y2 = vars\n",
    "    eq1 = x1 - px1 - h * x2 #x1\n",
    "    eq2 = x2 - px2 + h * x1/((x1**2+y1**2)**(3/2)) #x2\n",
    "    eq3 = y1 - py1 - h * y2 #y1\n",
    "    eq4 = y2 - py2 + h * y1/((x1**2+y1**2)**(3/2)) #y2\n",
    "    return [eq1,eq2,eq3,eq4]\n",
    "\n",
    "def euler_imp_mat(x1, x2, y1, y2, h, time, end, endx=True):\n",
    "    if endx:\n",
    "        iters = int((end - x1)//h)+1\n",
    "    else:\n",
    "        iters = int((end - y1)//h)+1\n",
    "    sol = np.empty(shape=iters,dtype='object')\n",
    "    sol[0] = (x1,x2,y1,y2)\n",
    "    for i in range(1,iters):\n",
    "        tmp = sol[i-1]+(h,)\n",
    "        sol[i] = fsolve(solve_imp,sol[i-1],args=tmp)\n",
    "        sol[i] = tuple(sol[i])\n",
    "        sol[i-1] = sol[i-1]+(time,)\n",
    "        time += h\n",
    "    sol[iters-1] = sol[iters-1]+(time,)\n",
    "    return sol"
   ]
  },
  {
   "cell_type": "code",
   "execution_count": null,
   "metadata": {},
   "outputs": [
    {
     "ename": "",
     "evalue": "",
     "output_type": "error",
     "traceback": [
      "\u001b[1;31mRunning cells with '/usr/bin/python' requires the ipykernel package.\n",
      "\u001b[1;31mRun the following command to install 'ipykernel' into the Python environment. \n",
      "\u001b[1;31mCommand: '/usr/bin/python -m pip install ipykernel -U --user --force-reinstall'"
     ]
    }
   ],
   "source": [
    "sol = euler_imp_mat(1,0,0,1,0.0001,0,30)\n",
    "y,x,y_der,x_der,t,v,r = [i[0] for i in sol],[i[2] for i in sol],[i[1] for i in sol],[i[3] for i in sol],[i[4] for i in sol],[(i[1]**2+i[3]**2)**(1/2) for i in sol],[(i[0]**2+i[2]**2)**(1/2) for i in sol]\n",
    "plt.plot(x,y)\n",
    "plt.title(\"Zależność współrzędnych y od x\")\n",
    "plt.xlabel(\"x\")\n",
    "plt.ylabel(\"y\")\n",
    "plt.show()\n",
    "\n",
    "plt.plot(t,y)\n",
    "plt.title(\"Zależność współrzędnych y od t\")\n",
    "plt.xlabel(\"t\")\n",
    "plt.ylabel(\"y\")\n",
    "plt.show()\n",
    "\n",
    "plt.plot(t,x)\n",
    "plt.title(\"Zależność współrzędnych x od t\")\n",
    "plt.xlabel(\"t\")\n",
    "plt.ylabel(\"x\")\n",
    "plt.show()\n",
    "\n",
    "plt.plot(r,v)\n",
    "plt.title(\"Zależność prędkości od promienia\")\n",
    "plt.xlabel(\"r\")\n",
    "plt.ylabel(\"v\")\n",
    "plt.show()\n",
    "# Energy\n",
    "eval = [(x_der[i]**2+y_der[i]**2)/2-1/r[i] for i in range(len(r))]\n",
    "plt.plot(t,eval)\n",
    "plt.title(\"Zależność energii od czasu\")\n",
    "plt.xlabel(\"E\")\n",
    "plt.ylabel(\"t\")\n",
    "plt.show()\n",
    "# Momentum\n",
    "pval = [x[i]*y_der[i]-y[i]*x_der[i] for i in range(len(x))]\n",
    "plt.plot(t,pval)\n",
    "plt.title(\"Zależność Pędu od czasu\")\n",
    "plt.xlabel(\"p\")\n",
    "plt.ylabel(\"t\")\n",
    "plt.show()"
   ]
  },
  {
   "attachments": {},
   "cell_type": "markdown",
   "metadata": {},
   "source": [
    "## Metoda półjawna Eulera"
   ]
  },
  {
   "cell_type": "code",
   "execution_count": null,
   "metadata": {},
   "outputs": [
    {
     "ename": "",
     "evalue": "",
     "output_type": "error",
     "traceback": [
      "\u001b[1;31mRunning cells with '/usr/bin/python' requires the ipykernel package.\n",
      "\u001b[1;31mRun the following command to install 'ipykernel' into the Python environment. \n",
      "\u001b[1;31mCommand: '/usr/bin/python -m pip install ipykernel -U --user --force-reinstall'"
     ]
    }
   ],
   "source": [
    "def euler_semi_mat(x1, x2, y1, y2, h, time, end, endx=True):\n",
    "    if endx:\n",
    "        iters = int((end - x1)//h)+1\n",
    "    else:\n",
    "        iters = int((end - y1)//h)+1\n",
    "    sol = np.empty(shape=iters,dtype='object')\n",
    "    sol[0] = (x1,x2,y1,y2,time)\n",
    "    for i in range(1,iters):\n",
    "        x1_next = sol[i-1][0] + h*sol[i-1][1]\n",
    "        x2_next = sol[i-1][1] + h*(-x1_next)/((x1_next**2+sol[i-1][2]**2)**(3/2))\n",
    "        y1_next = sol[i-1][2] + h*sol[i-1][3]\n",
    "        y2_next = sol[i-1][3] + h*(-y1_next)/((y1_next**2+x1_next**2)**(3/2))\n",
    "        sol[i]=(x1_next,x2_next,y1_next,y2_next,sol[i-1][4]+h)\n",
    "    return sol"
   ]
  },
  {
   "cell_type": "code",
   "execution_count": null,
   "metadata": {},
   "outputs": [
    {
     "ename": "",
     "evalue": "",
     "output_type": "error",
     "traceback": [
      "\u001b[1;31mRunning cells with '/usr/bin/python' requires the ipykernel package.\n",
      "\u001b[1;31mRun the following command to install 'ipykernel' into the Python environment. \n",
      "\u001b[1;31mCommand: '/usr/bin/python -m pip install ipykernel -U --user --force-reinstall'"
     ]
    }
   ],
   "source": [
    "n = 30\n",
    "h = 0.001\n",
    "sol = euler_semi_mat(1,0,0,1,h,0,n)\n",
    "y,x,y_der,x_der,t,v,r = [i[0] for i in sol],[i[2] for i in sol],[i[1] for i in sol],[i[3] for i in sol],[i[4] for i in sol],[(i[1]**2+i[3]**2)**(1/2) for i in sol],[(i[0]**2+i[2]**2)**(1/2) for i in sol]\n",
    "plt.plot(x,y)\n",
    "plt.title(\"Zależność współrzędnych y od x\")\n",
    "plt.xlabel(\"x\")\n",
    "plt.ylabel(\"y\")\n",
    "plt.show()\n",
    "\n",
    "plt.plot(t,y)\n",
    "plt.title(\"Zależność współrzędnych y od t\")\n",
    "plt.xlabel(\"t\")\n",
    "plt.ylabel(\"y\")\n",
    "plt.show()\n",
    "\n",
    "plt.plot(t,x)\n",
    "plt.title(\"Zależność współrzędnych x od t\")\n",
    "plt.xlabel(\"t\")\n",
    "plt.ylabel(\"x\")\n",
    "plt.show()\n",
    "\n",
    "plt.plot(r,v)\n",
    "plt.title(\"Zależność prędkości od promienia\")\n",
    "plt.xlabel(\"r\")\n",
    "plt.ylabel(\"v\")\n",
    "plt.show()\n",
    "# Energy\n",
    "eval = [(x_der[i]**2+y_der[i]**2)/2-1/r[i] for i in range(len(r))]\n",
    "plt.plot(t,eval)\n",
    "plt.title(\"Zależność energii od czasu\")\n",
    "plt.xlabel(\"E\")\n",
    "plt.ylabel(\"t\")\n",
    "plt.show()\n",
    "# Momentum\n",
    "pval = [x[i]*y_der[i]-y[i]*x_der[i] for i in range(len(x))]\n",
    "plt.plot(t,pval)\n",
    "plt.title(\"Zależność Pędu od czasu\")\n",
    "plt.xlabel(\"p\")\n",
    "plt.ylabel(\"t\")\n",
    "plt.show()"
   ]
  },
  {
   "attachments": {},
   "cell_type": "markdown",
   "metadata": {},
   "source": [
    "## Metoda Rungego-Kutty"
   ]
  },
  {
   "cell_type": "code",
   "execution_count": null,
   "metadata": {},
   "outputs": [
    {
     "ename": "",
     "evalue": "",
     "output_type": "error",
     "traceback": [
      "\u001b[1;31mRunning cells with '/usr/bin/python' requires the ipykernel package.\n",
      "\u001b[1;31mRun the following command to install 'ipykernel' into the Python environment. \n",
      "\u001b[1;31mCommand: '/usr/bin/python -m pip install ipykernel -U --user --force-reinstall'"
     ]
    }
   ],
   "source": [
    "def ode_val_x1_y1(t, y_k, x, y):\n",
    "    return x\n",
    "def ode_val_x2(t, y_k, x, y):\n",
    "    return -x/((x**2 + y**2)**(3/2))\n",
    "\n",
    "def ode_val_y2(t, y_k, x, y):\n",
    "    return -y/((x**2 + y**2)**(3/2))"
   ]
  },
  {
   "cell_type": "code",
   "execution_count": null,
   "metadata": {},
   "outputs": [
    {
     "ename": "",
     "evalue": "",
     "output_type": "error",
     "traceback": [
      "\u001b[1;31mRunning cells with '/usr/bin/python' requires the ipykernel package.\n",
      "\u001b[1;31mRun the following command to install 'ipykernel' into the Python environment. \n",
      "\u001b[1;31mCommand: '/usr/bin/python -m pip install ipykernel -U --user --force-reinstall'"
     ]
    }
   ],
   "source": [
    "def count_rk_step(f, t_k, y_k, x1_k, y1_k, h):\n",
    "    k1 = f(t_k, y_k, x1_k, y1_k)\n",
    "    k2 = f(t_k + h/2, y_k + (h/2)*k1, x1_k, y1_k)\n",
    "    k3 = f(t_k + h/2, y_k + (h/2)*k2, x1_k, y1_k)\n",
    "    k4 = f(t_k + h, y_k + h*k3, x1_k, y1_k)\n",
    "    return y_k + h/6 * (k1 + 2*k2 + 2*k3 + k4)"
   ]
  },
  {
   "cell_type": "code",
   "execution_count": null,
   "metadata": {},
   "outputs": [
    {
     "ename": "",
     "evalue": "",
     "output_type": "error",
     "traceback": [
      "\u001b[1;31mRunning cells with '/usr/bin/python' requires the ipykernel package.\n",
      "\u001b[1;31mRun the following command to install 'ipykernel' into the Python environment. \n",
      "\u001b[1;31mCommand: '/usr/bin/python -m pip install ipykernel -U --user --force-reinstall'"
     ]
    }
   ],
   "source": [
    "def rk4(x1, x2, y1, y2, h, end):\n",
    "    iters = int(end//h) + 1\n",
    "    t=np.arange(0, end, h)\n",
    "    sol_x = np.zeros(iters)\n",
    "    sol_y = np.zeros(iters)\n",
    "    sol_x_der = np.zeros(iters)\n",
    "    sol_y_der = np.zeros(iters)\n",
    "    sol_x[0] = x1\n",
    "    sol_y[0] = y1\n",
    "    sol_x_der[0] = x2\n",
    "    sol_y_der[0] = y2\n",
    "    for i in range(1, iters):\n",
    "        (tmp_x1, tmp_x2, tmp_y1, tmp_y2) = (x1, x2, y1, y2)\n",
    "        x1 = count_rk_step(ode_val_x1_y1, t[i], tmp_x1, tmp_x2, None, h)\n",
    "        x2 = count_rk_step(ode_val_x2, t[i], tmp_x2, tmp_x1, tmp_y1, h)\n",
    "        y1 = count_rk_step(ode_val_x1_y1, t[i], tmp_y1, tmp_y2, None, h)\n",
    "        y2 = count_rk_step(ode_val_y2, t[i], tmp_y2, tmp_x1, tmp_y1, h)\n",
    "        sol_x[i] = x1\n",
    "        sol_y[i] = y1\n",
    "        sol_x_der[i] = x2\n",
    "        sol_y_der[i] = y2\n",
    "    return (sol_x, sol_y, sol_x_der, sol_y_der, t, iters)"
   ]
  },
  {
   "cell_type": "code",
   "execution_count": null,
   "metadata": {},
   "outputs": [
    {
     "ename": "",
     "evalue": "",
     "output_type": "error",
     "traceback": [
      "\u001b[1;31mRunning cells with '/usr/bin/python' requires the ipykernel package.\n",
      "\u001b[1;31mRun the following command to install 'ipykernel' into the Python environment. \n",
      "\u001b[1;31mCommand: '/usr/bin/python -m pip install ipykernel -U --user --force-reinstall'"
     ]
    }
   ],
   "source": [
    "(x, y, x_der, y_der, t, n) = rk4(1, 0, 0, 1, 0.0001, 10*np.pi)\n",
    "print(len(x), len(y), len(t))\n",
    "plt.plot(x, y)\n",
    "plt.title(\"Zależność współrzędnych y od x\")\n",
    "plt.xlabel(\"x\")\n",
    "plt.ylabel(\"y\")\n",
    "plt.show()\n",
    "\n",
    "\n",
    "plt.plot(t, x)\n",
    "plt.title(\"Zależność współrzędnych x od t\")\n",
    "plt.xlabel(\"t\")\n",
    "plt.ylabel(\"x\")\n",
    "plt.show()\n",
    "\n",
    "\n",
    "plt.plot(t, y)\n",
    "plt.title(\"Zależność współrzędnych y od t\")\n",
    "plt.xlabel(\"t\")\n",
    "plt.ylabel(\"y\")\n",
    "plt.show()\n",
    "\n",
    "x_vals = np.arange(0, n, 1)\n",
    "\n",
    "# velocity\n",
    "v_r = [(x_der[i]**2 + y_der[i]**2)**(0.5) for i in range(n)]\n",
    "r = [(x[i]**2 + y[i]**2)**(0.5) for i in range(n)]\n",
    "plt.plot(r, v_r)\n",
    "plt.title(\"Zależność prędkości od promienia\")\n",
    "plt.xlabel(\"r\")\n",
    "plt.ylabel(\"v\")\n",
    "\n",
    "plt.show()\n",
    "\n",
    "# energy conservation law\n",
    "ecl = [(x_der[i]**2 + y_der[i]**2)/2 - 1/((x[i]**2 + y[i]**2)**(1/2)) for i in range(n)]\n",
    "\n",
    "plt.plot(x_vals, ecl)\n",
    "plt.title(\"Zależność energii od czasu\")\n",
    "plt.xlabel(\"E\")\n",
    "plt.ylabel(\"t\")\n",
    "plt.show()\n",
    "\n",
    "# momentum conservation law\n",
    "mcl = [(x[i]*y_der[i] - y[i]*x_der[i]) for i in range(n)]\n",
    "plt.plot(x_vals, mcl)\n",
    "plt.title(\"Zależność Pędu od czasu\")\n",
    "plt.xlabel(\"p\")\n",
    "plt.ylabel(\"t\")\n",
    "plt.show()"
   ]
  },
  {
   "attachments": {},
   "cell_type": "markdown",
   "metadata": {},
   "source": [
    "## Wnioski\n",
    "Metoda Rungego-Kutty jest najszybsza spośród wszystkich użytych metod. Najdokładniejsze wyniki otrzymujemy natomiast stosując metody jawną i niejawną Eulera. Metoda półjawna Eulera oraz metoda Rungego-Kutty dostarczają nieco gorsze wyniki."
   ]
  },
  {
   "attachments": {},
   "cell_type": "markdown",
   "metadata": {},
   "source": [
    "# Bibliografia\n",
    "https://en.wikipedia.org/wiki/Backward_Euler_method\n",
    "https://en.wikipedia.org/wiki/Euler_method\n",
    "https://en.wikipedia.org/wiki/Semi-implicit_Euler_method\n"
   ]
  }
 ],
 "metadata": {
  "kernelspec": {
   "display_name": ".venv",
   "language": "python",
   "name": "python3"
  },
  "language_info": {
   "codemirror_mode": {
    "name": "ipython",
    "version": 3
   },
   "file_extension": ".py",
   "mimetype": "text/x-python",
   "name": "python",
   "nbconvert_exporter": "python",
   "pygments_lexer": "ipython3",
   "version": "3.10.6"
  },
  "orig_nbformat": 4,
  "vscode": {
   "interpreter": {
    "hash": "ee1f49cb0018c78568d4706e8010e6ea8e83dbf3010aff96eed984fcba53a8c6"
   }
  }
 },
 "nbformat": 4,
 "nbformat_minor": 2
}
