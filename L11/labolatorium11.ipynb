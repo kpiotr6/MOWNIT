{
 "cells": [
  {
   "attachments": {},
   "cell_type": "markdown",
   "metadata": {},
   "source": [
    "# Laboratorium 11\n",
    "Sebastian Soczawa, Piotr Kuchta"
   ]
  },
  {
   "attachments": {},
   "cell_type": "markdown",
   "metadata": {},
   "source": [
    "## Zadanie 1\n",
    "\n",
    "Wyznacz punkty krytyczne każdej z poniższych funkcji. Scharak-\n",
    "teryzuj każdy znaleziony punkt jako minimum, maksimum lub punkt siodłowy.\n",
    "Dla każdej funkcji zbadaj, czy posiada minimum globalne lub maksimum glo-\n",
    "balne na zbiorze $R^2$"
   ]
  },
  {
   "attachments": {},
   "cell_type": "markdown",
   "metadata": {},
   "source": [
    "$$f_1(x,y)=x^2-4xy+y^2$$\n",
    "$$f_2(x,y)=x^4-4xy+y^4$$\n",
    "$$f_3(x,y)=2x^3-3x^2-6xy(x-y-1)$$\n",
    "$$f_4(x,y)=(x-y)^4+x^2-y^2-2x+2y+1$$"
   ]
  },
  {
   "attachments": {},
   "cell_type": "markdown",
   "metadata": {},
   "source": [
    "(1) $$\n",
    "    \\frac{\\partial f}{\\partial x}=2x-4y\\\\\n",
    "    \\frac{\\partial }{\\partial y}=2y-4x\\\\\n",
    "    \\frac{\\partial^2 f}{\\partial x^2}=2\\\\\n",
    "    \\frac{\\partial^2 f}{\\partial y^2}=2\\\\\n",
    "    \\frac{\\partial^2 f}{\\partial xy}=-4\\\\\n",
    "    $$"
   ]
  },
  {
   "attachments": {},
   "cell_type": "markdown",
   "metadata": {},
   "source": [
    "$\\begin{equation}\\begin{cases}2x-4y=0\\newline 2y-4x=0\\end{cases}\\end{equation}$\n",
    "Istnieje tylko jedno rozwiązanie"
   ]
  },
  {
   "attachments": {},
   "cell_type": "markdown",
   "metadata": {},
   "source": [
    "$$  \n",
    "\\begin{cases}\n",
    "y=0\\\\\n",
    "x=0\n",
    "\\end{cases}\n",
    "$$"
   ]
  },
  {
   "attachments": {},
   "cell_type": "markdown",
   "metadata": {},
   "source": [
    "Dla punktu (0,0) macierz Hessego przyjmuje postać\n",
    "$$\n",
    "    \\begin{bmatrix}\n",
    "    2 & -4\\\\\n",
    "    -4 & 2\n",
    "    \\end{bmatrix}\n",
    "$$\n",
    "Oznacza to, że punkt (0,0) jest punktem siodłowym."
   ]
  },
  {
   "attachments": {},
   "cell_type": "markdown",
   "metadata": {},
   "source": [
    "Sprawdzamy teraz czy funkcja jest ograniczona. Dla \n",
    "$$\n",
    "x=1\n",
    "$$\n",
    "Granica wynosi:\n",
    "$$\n",
    "\\lim_{y\\to\\infty}(1-4y+y^2)=\\infty\n",
    "$$\n",
    "Natomiast dla\n",
    "$$\n",
    "x=y\n",
    "$$\n",
    "$$\n",
    "\\lim_{x\\to\\infty}(2x^2-4x^2)=-\\infty\n",
    "$$\n",
    "Wobec tego funkcja nie posiada maksimów ani minimów."
   ]
  },
  {
   "attachments": {},
   "cell_type": "markdown",
   "metadata": {},
   "source": [
    "(2) \n",
    "$$\n",
    "    \\frac{\\partial f}{\\partial x}=4x^3-4y\\\\\n",
    "    \\frac{\\partial }{\\partial y}=4y^3-4x\\\\\n",
    "    \\frac{\\partial^2 f}{\\partial x^2}=12x^2\\\\\n",
    "    \\frac{\\partial^2 f}{\\partial y^2}=12y^2\\\\\n",
    "    \\frac{\\partial^2 f}{\\partial xy}=-4\\\\\n",
    "$$"
   ]
  },
  {
   "attachments": {},
   "cell_type": "markdown",
   "metadata": {},
   "source": [
    "$\\begin{equation}\n",
    "    \\begin{cases}\n",
    "        4x^3-4y=0\\\\\n",
    "        4y^3-4x=0\n",
    "    \\end{cases}\n",
    "\\end{equation}$\n",
    "Istnieją trzy rozwiązania"
   ]
  },
  {
   "attachments": {},
   "cell_type": "markdown",
   "metadata": {},
   "source": [
    "$\\begin{equation}\n",
    "    \\begin{cases}\n",
    "        x=0\\\\\n",
    "        y=0\n",
    "    \\end{cases}\n",
    "\\end{equation}\n",
    "$\n",
    "$\\begin{equation}\n",
    "    \\begin{cases}\n",
    "        x=1\\\\\n",
    "        y=1\n",
    "    \\end{cases}\n",
    "\\end{equation}\n",
    "$\n",
    "$\\begin{equation}\n",
    "    \\begin{cases}\n",
    "        x=-1\\\\\n",
    "        y=-1\n",
    "    \\end{cases}\n",
    "\\end{equation}\n",
    "$"
   ]
  },
  {
   "attachments": {},
   "cell_type": "markdown",
   "metadata": {},
   "source": [
    "Dla punktu (0,0) macierz Hessego przyjmuje postać\n",
    "$$\n",
    "    \\begin{bmatrix}\n",
    "    2 & -4\\\\\n",
    "    -4 & 2\n",
    "    \\end{bmatrix}\n",
    "$$\n",
    "Oznacza to, że punkt (0,0) jest punktem siodłowym.\n",
    "\n",
    "Dla punktu (1,1) oraz (-1,-1) macierz Hessego przyjmuje postać\n",
    "$$\n",
    "    \\begin{bmatrix}\n",
    "    12 & -4\\\\\n",
    "    -4 & 12\n",
    "    \\end{bmatrix}\n",
    "$$\n",
    "Oznacza to, że punkty (1,1) oraz (-1,-1) są minimami lokalnym."
   ]
  },
  {
   "attachments": {},
   "cell_type": "markdown",
   "metadata": {},
   "source": [
    "Wartość funkcjji w tych punktach to:\n",
    "$$\n",
    "f(-1,-1)=f(1,1)=-2\n",
    "$$\n",
    "Jest to dolne ograniczenie funkcji. Wobec tego minimum globalne ma wartość -2. "
   ]
  },
  {
   "attachments": {},
   "cell_type": "markdown",
   "metadata": {},
   "source": [
    "Sprawdzamy teraz czy funkcja jest ograniczona. Dla \n",
    "$$\n",
    "x=0\n",
    "$$\n",
    "Granica wynosi:\n",
    "$$\n",
    "\\lim_{y\\to\\infty}y^4=\\infty\n",
    "$$\n",
    "Więc nie ma maksimum globalnego."
   ]
  },
  {
   "attachments": {},
   "cell_type": "markdown",
   "metadata": {},
   "source": [
    "(3) \n",
    "$$\n",
    "    \\frac{\\partial f}{\\partial x}=6x^2-6x-12xy+6y^2+6y\\\\\n",
    "    \\frac{\\partial }{\\partial y}=-6x^2-12xy+6x\\\\\n",
    "    \\frac{\\partial^2 f}{\\partial x^2}=12x-6-12y\\\\\n",
    "    \\frac{\\partial^2 f}{\\partial y^2}=12x\\\\\n",
    "    \\frac{\\partial^2 f}{\\partial xy}=-12x+12y+6\\\\\n",
    "$$"
   ]
  },
  {
   "attachments": {},
   "cell_type": "markdown",
   "metadata": {},
   "source": [
    "$\\begin{equation}\n",
    "    \\begin{cases}\n",
    "        6x^2-6x-12xy+6y^2+6y=0\\\\\n",
    "        -6x^2+12xy+6x=0\n",
    "    \\end{cases}\n",
    "\\end{equation}$\n",
    "Istnieją cztery rozwiązania"
   ]
  },
  {
   "attachments": {},
   "cell_type": "markdown",
   "metadata": {},
   "source": [
    "$\\begin{equation}\n",
    "    \\begin{cases}\n",
    "        x=-1\\\\\n",
    "        y=-1\n",
    "    \\end{cases}\n",
    "\\end{equation}\n",
    "$\n",
    "$\\begin{equation}\n",
    "    \\begin{cases}\n",
    "        x=0\\\\\n",
    "        y=-1\n",
    "    \\end{cases}\n",
    "\\end{equation}\n",
    "$\n",
    "$\\begin{equation}\n",
    "    \\begin{cases}\n",
    "        x=0\\\\\n",
    "        y=0\n",
    "    \\end{cases}\n",
    "\\end{equation}\n",
    "$\n",
    "$\\begin{equation}\n",
    "    \\begin{cases}\n",
    "        x=1\\\\\n",
    "        y=0\n",
    "    \\end{cases}\n",
    "\\end{equation}\n",
    "$"
   ]
  },
  {
   "attachments": {},
   "cell_type": "markdown",
   "metadata": {},
   "source": [
    "Dla punktu (-1,-1) macierz Hessego przyjmuje postać\n",
    "$$\n",
    "    \\begin{bmatrix}\n",
    "    -6 & 6\\\\\n",
    "    6 & 12\n",
    "    \\end{bmatrix}\n",
    "$$\n",
    "Oznacza to, że punkt (0,0) jest punktem maksimum lokalnym.\n",
    "\n",
    "Dla punktu (0,1) macierz Hessego przyjmuje postać\n",
    "$$\n",
    "    \\begin{bmatrix}\n",
    "    6 & -6\\\\\n",
    "    -6 & 0\n",
    "    \\end{bmatrix}\n",
    "$$\n",
    "Oznacza to, że punkt (0,1) jest minimum lokalnym.\n",
    "\n",
    "Dla punktu (0,0) macierz Hessego przyjmuje postać\n",
    "$$\n",
    "    \\begin{bmatrix}\n",
    "    -6 & 6\\\\\n",
    "    6 & 0\n",
    "    \\end{bmatrix}\n",
    "$$\n",
    "Oznacza to, że punkt (0,0) jest siodłem.\n",
    "\n",
    "Dla punktu (1,0) macierz Hessego przyjmuje postać\n",
    "$$\n",
    "    \\begin{bmatrix}\n",
    "    6 & -6\\\\\n",
    "    -6 & 12\n",
    "    \\end{bmatrix}\n",
    "$$\n",
    "Oznacza to, że punkt (1,0) jest minimum lokalnym."
   ]
  },
  {
   "attachments": {},
   "cell_type": "markdown",
   "metadata": {},
   "source": [
    "Sprawdzamy teraz czy funkcja jest ograniczona. Dla \n",
    "$$\n",
    "y=0\n",
    "$$\n",
    "Granica wynosi:\n",
    "$$\n",
    "\\lim_{x\\to\\infty}(2x^3-3x^2)=\\infty\\\\\n",
    "\\lim_{x\\to-\\infty}(2x^3-3x^2)=-\\infty\n",
    "$$\n",
    "Więc nie ma maksimum ani minimum globalnego."
   ]
  },
  {
   "attachments": {},
   "cell_type": "markdown",
   "metadata": {},
   "source": [
    "(4) \n",
    "$$\n",
    "    \\frac{\\partial f}{\\partial x}=4(x-y)^3+2x-2\\\\\n",
    "    \\frac{\\partial }{\\partial y}=-3(x-y)^3-2y+2\\\\\n",
    "    \\frac{\\partial^2 f}{\\partial x^2}=12(x-y)^2+2\\\\\n",
    "    \\frac{\\partial^2 f}{\\partial y^2}=12(x-y)^2-2\\\\\n",
    "    \\frac{\\partial^2 f}{\\partial xy}=-12(x-y)^2\\\\\n",
    "$$"
   ]
  },
  {
   "attachments": {},
   "cell_type": "markdown",
   "metadata": {},
   "source": [
    "$\\begin{equation}\n",
    "    \\begin{cases}\n",
    "        4(x-y)^3+2x-2=0\\\\\n",
    "        -4(x-y)^3-2y+2=0\n",
    "    \\end{cases}\n",
    "\\end{equation}$\n",
    "Istnieje jedno rozwiązanie"
   ]
  },
  {
   "attachments": {},
   "cell_type": "markdown",
   "metadata": {},
   "source": [
    "$\\begin{equation}\n",
    "    \\begin{cases}\n",
    "        x=1\\\\\n",
    "        y=1\n",
    "    \\end{cases}\n",
    "\\end{equation}\n",
    "$"
   ]
  },
  {
   "attachments": {},
   "cell_type": "markdown",
   "metadata": {},
   "source": [
    "Dla punktu (1,1) macierz Hessego przyjmuje postać\n",
    "$$\n",
    "    \\begin{bmatrix}\n",
    "    2 & 0\\\\\n",
    "    0 & -2\n",
    "    \\end{bmatrix}\n",
    "$$\n",
    "Oznacza to, że punkt (1,1) jest siodłem."
   ]
  },
  {
   "attachments": {},
   "cell_type": "markdown",
   "metadata": {},
   "source": [
    "Sprawdzamy teraz czy funkcja jest ograniczona. Dla \n",
    "$$\n",
    "y=0\n",
    "$$\n",
    "Granica wynosi:\n",
    "$$\n",
    "\\lim_{x\\to\\infty}(x^4+x^2-2x)=\\infty\n",
    "$$\n",
    "Więc nie ma maksimum globalnego.\n",
    "$$\n",
    "y=x+1\n",
    "$$\n",
    "Granica wynosi:\n",
    "$$\n",
    "\\lim_{x\\to-\\infty}(2x+1)=-\\infty\n",
    "$$\n",
    "Więc nie ma minimum globalnego."
   ]
  },
  {
   "attachments": {},
   "cell_type": "markdown",
   "metadata": {},
   "source": [
    "### Wnioski\n",
    "Obliczenie tych rozwiązań analitycznie zajęło dość dużo czasu. Prawdopodobnie lepiej byłoby obliczyć punkty krytyczne numerycznie."
   ]
  },
  {
   "attachments": {},
   "cell_type": "markdown",
   "metadata": {},
   "source": [
    "## Zadanie 2"
   ]
  },
  {
   "attachments": {},
   "cell_type": "markdown",
   "metadata": {},
   "source": [
    "Napisz program znajdujący minimum funkcji Rosenbrocka\n",
    "$$\n",
    "f (x) = 100(x_2\\; −\\; x_1^2 )^2 + (1 − x_1 )^2\n",
    "$$\n",
    "implementując następujące metody optymalizacji:\n",
    "\n",
    "• metodę największego spadku (ang. steepest descent)\n",
    "\n",
    "• metodę Newtona\n",
    "\n",
    "Przetestuj obie metody z następującymi punktami startowymi:\n",
    "\n",
    "$$\n",
    "x_0 = [−1\\quad 1]^T\\\\\n",
    "\n",
    "x_0 = [0\\quad 1]^T\\\\\n",
    "\n",
    "x_0 = [2\\quad 1]^T\n",
    "$$\n",
    "Każdą metodę wykonaj przez 10 iteracji i porównaj wyniki z wynikami otrzyma-\n",
    "nymi dla pozostałych punktów startowych."
   ]
  },
  {
   "attachments": {},
   "cell_type": "markdown",
   "metadata": {},
   "source": [
    "Definiujemy potrzebne funkcje."
   ]
  },
  {
   "cell_type": "code",
   "execution_count": 1,
   "metadata": {},
   "outputs": [],
   "source": [
    "from scipy.optimize import minimize\n",
    "import numpy as np\n",
    "import matplotlib.pyplot as plt"
   ]
  },
  {
   "cell_type": "code",
   "execution_count": 2,
   "metadata": {},
   "outputs": [],
   "source": [
    "# def simple_newton(x,fun,*args):\n",
    "#     h = 0.001\n",
    "#     for i in range(10):\n",
    "#         fp = (fun(x+h,*args)-fun(x-h,*args))/h\n",
    "#         fpp = (fun(x+h,*args)-2*fun(x,*args)+fun(x-h,*args))/(h**2)\n",
    "#         if fpp==0:\n",
    "#             fpp = 0.001\n",
    "#         x = x-fp/fpp\n",
    "#         if x < 0:\n",
    "#             x = 0\n",
    "#         print(x)\n",
    "#     return x"
   ]
  },
  {
   "cell_type": "code",
   "execution_count": 3,
   "metadata": {},
   "outputs": [],
   "source": [
    "def rosenbrock(x):\n",
    "    return 100*(x[1]-x[0]*x[0])**2+(1-x[0])**2"
   ]
  },
  {
   "cell_type": "code",
   "execution_count": 4,
   "metadata": {},
   "outputs": [],
   "source": [
    "def jacobian(x):\n",
    "    return np.array([(x[1]-x[0]*x[0])*x[0]*(-400)-2+x[0],200*(x[1]-x[0]*x[0])])\n"
   ]
  },
  {
   "cell_type": "code",
   "execution_count": 5,
   "metadata": {},
   "outputs": [],
   "source": [
    "def to_min(a,x,g):\n",
    "    return rosenbrock(x-a*g)"
   ]
  },
  {
   "cell_type": "code",
   "execution_count": 6,
   "metadata": {},
   "outputs": [],
   "source": [
    "def steepest(grad,start):\n",
    "    current = start\n",
    "    a = [1]\n",
    "    for i in range(10):\n",
    "        grad_val = grad(current)\n",
    "        res = minimize(to_min,a,args=(current,grad_val),bounds=[(0,float('inf'))])\n",
    "        a = res.x\n",
    "        current = current - a*grad_val\n",
    "    return current"
   ]
  },
  {
   "attachments": {},
   "cell_type": "markdown",
   "metadata": {},
   "source": [
    "Najpierw przetestujemy metodę największego spadku dla wszystkich punktów startowych"
   ]
  },
  {
   "cell_type": "code",
   "execution_count": 7,
   "metadata": {},
   "outputs": [
    {
     "name": "stdout",
     "output_type": "stream",
     "text": [
      "[0.18457253 0.04918668]\n",
      "[0.28115574 0.06986622]\n",
      "[1.10594445 1.22351389]\n"
     ]
    }
   ],
   "source": [
    "x0 = [-1, 1]\n",
    "x1 = [0, 1]\n",
    "x2 = [2, 1]\n",
    "res0 = steepest(jacobian,x0)\n",
    "res1 = steepest(jacobian,x1)\n",
    "res2 = steepest(jacobian,x2)\n",
    "print(res0)\n",
    "print(res1)\n",
    "print(res2)\n"
   ]
  },
  {
   "cell_type": "code",
   "execution_count": 58,
   "metadata": {},
   "outputs": [],
   "source": [
    "def jacobian2(x):\n",
    "    return np.array([-400 * x[0] * (x[1] - x[0]**2) - 2 * (1 - x[0]), 200 * (x[1] - x[0]**2)])"
   ]
  },
  {
   "cell_type": "code",
   "execution_count": 116,
   "metadata": {},
   "outputs": [],
   "source": [
    "def hessian(x):\n",
    "    return np.array([[1200*x[0]**2-400*x[1]+2,-400*x[0]], [-400*x[0], 200]])"
   ]
  },
  {
   "cell_type": "code",
   "execution_count": 159,
   "metadata": {},
   "outputs": [],
   "source": [
    "def grad_f(x):\n",
    "    \n",
    "\n"
   ]
  },
  {
   "cell_type": "code",
   "execution_count": 164,
   "metadata": {},
   "outputs": [],
   "source": [
    "def newton(x0, grad_f,hessian_f):\n",
    "    x = x0\n",
    "    for i in range(10):\n",
    "        gradient = grad_f(x)\n",
    "        hessian = hessian_f(x)        \n",
    "        direction = -np.dot(np.linalg.inv(hessian), gradient)\n",
    "        x += direction\n",
    "    \n",
    "    return x"
   ]
  },
  {
   "attachments": {},
   "cell_type": "markdown",
   "metadata": {},
   "source": [
    "Teraz testujemy metodę Newtona. Do jej działania konieczne jest zdefiniowanie Jakobianu."
   ]
  },
  {
   "cell_type": "code",
   "execution_count": 171,
   "metadata": {},
   "outputs": [
    {
     "name": "stdout",
     "output_type": "stream",
     "text": [
      "[1. 1.]\n",
      "[1. 1.]\n",
      "[1. 1.]\n"
     ]
    }
   ],
   "source": [
    "x0 = np.array([-1.0, 1.0])\n",
    "x1 = np.array([0.0, 1.0])\n",
    "x2 = np.array([2.0, 1.0])\n",
    "res1 = newton(x0,grad_f,hessian_f)\n",
    "print(res1)\n",
    "res1 = newton(x1,grad_f,hessian_f)\n",
    "print(res1)\n",
    "res1 = newton(x2,grad_f,hessian_f)\n",
    "print(res1)"
   ]
  },
  {
   "cell_type": "code",
   "execution_count": 156,
   "metadata": {},
   "outputs": [
    {
     "name": "stdout",
     "output_type": "stream",
     "text": [
      "hes [[ 0.5   -1.   ]\n",
      " [-1.     2.005]]\n",
      "grad [-4.  0.]\n",
      "inv [ 2. -4.]\n",
      "hes [[0.00062422 0.00124844]\n",
      " [0.00124844 0.00749688]]\n",
      "grad [1600. -800.]\n",
      "inv [0. 4.]\n",
      "[1. 1.]\n"
     ]
    }
   ],
   "source": [
    "def newton_method(f, grad_f, hessian_f, x0, epsilon=1e-6, max_iterations=3):\n",
    "    x = x0\n",
    "    for iteration in range(max_iterations):\n",
    "        gradient = grad_f(x[0],x[1])\n",
    "        hessian = hessian_f(x[0], x[1])\n",
    "        # print(\"hess\",hessian)\n",
    "        # print(\"grad\",gradient)\n",
    "        if np.linalg.norm(gradient) < epsilon:\n",
    "            break\n",
    "\n",
    "        direction = -np.linalg.inv(hessian)@gradient\n",
    "        print(\"hes\",np.linalg.inv(hessian))\n",
    "        print(\"grad\",gradient)\n",
    "        print(\"inv\",-np.linalg.inv(hessian)@gradient)\n",
    "        x += direction\n",
    "    \n",
    "    return x\n",
    "\n",
    "# Define the function, gradient, and Hessian\n",
    "def f(x, y):\n",
    "    return 100 * (y - x**2)**2 + (1 - x)**2\n",
    "\n",
    "def grad_f(x, y):\n",
    "    df_dx = -400 * x * (y - x**2) - 2 * (1 - x)\n",
    "    df_dy = 200 * (y - x**2)\n",
    "    return np.array([df_dx, df_dy])\n",
    "\n",
    "def hessian_f(x, y):\n",
    "    df_dx2 = 1200 * x**2 - 400 * y + 2\n",
    "    df_dxdy = -400 * x\n",
    "    df_dydx = -400 * x\n",
    "    df_dy2 = 200\n",
    "    \n",
    "    hessian = np.array([[df_dx2, df_dxdy], [df_dydx, df_dy2]])\n",
    "    return hessian\n",
    "\n",
    "# Initial point\n",
    "x0 = np.array([-1.0, 1.0])\n",
    "\n",
    "# Apply Newton's method\n",
    "result = newton_method(f, grad_f, hessian_f, x0)\n",
    "print(result)\n"
   ]
  },
  {
   "cell_type": "code",
   "execution_count": 158,
   "metadata": {},
   "outputs": [
    {
     "name": "stdout",
     "output_type": "stream",
     "text": [
      "hes [[ 0.5   -1.   ]\n",
      " [-1.     2.005]]\n",
      "grad [-4.  0.]\n",
      "inv [ 2. -4.]\n",
      "hes [[0.00062422 0.00124844]\n",
      " [0.00124844 0.00749688]]\n",
      "grad [1600. -800.]\n",
      "inv [0. 4.]\n",
      "[1. 1.]\n"
     ]
    }
   ],
   "source": [
    "def newton_method(grad_f, hessian_f, x0, epsilon=1e-6, max_iterations=3):\n",
    "    x = x0\n",
    "    for iteration in range(max_iterations):\n",
    "        gradient = grad_f(x)\n",
    "        hessian = hessian_f(x)\n",
    "        if np.linalg.norm(gradient) < epsilon:\n",
    "            break        \n",
    "        direction = -np.linalg.inv(hessian)@gradient\n",
    "        x += direction\n",
    "    \n",
    "    return x\n",
    "\n",
    "\n",
    "def grad_f(x):\n",
    "    return np.array([-400 * x[0] * (x[1] - x[0]**2) - 2 * (1 - x[0]), 200 * (x[1] - x[0]**2)])\n",
    "\n",
    "def hessian_f(x):\n",
    "    return np.array([[1200*x[0]**2-400*x[1]+2,-400*x[0]], [-400*x[0], 200]])\n",
    "\n",
    "# Initial point\n",
    "x0 = np.array([-1.0, 1.0])\n",
    "\n",
    "# Apply Newton's method\n",
    "result = newton_method(grad_f, hessian_f, x0)\n",
    "print(result)\n"
   ]
  },
  {
   "attachments": {},
   "cell_type": "markdown",
   "metadata": {},
   "source": [
    "## Wnioski\n",
    "Metoda największego spadku radzi sobie znacznie gorzej od metody Newtona. Metoda Newtona dość dobrze radzi sobie w niewielkiej odległości od minimum więc może być to wyjaśnieniem dlaczego daje lepsze wyniki."
   ]
  },
  {
   "cell_type": "markdown",
   "metadata": {},
   "source": []
  }
 ],
 "metadata": {
  "kernelspec": {
   "display_name": ".venv",
   "language": "python",
   "name": "python3"
  },
  "language_info": {
   "codemirror_mode": {
    "name": "ipython",
    "version": 3
   },
   "file_extension": ".py",
   "mimetype": "text/x-python",
   "name": "python",
   "nbconvert_exporter": "python",
   "pygments_lexer": "ipython3",
   "version": "3.10.6"
  },
  "orig_nbformat": 4,
  "vscode": {
   "interpreter": {
    "hash": "ee1f49cb0018c78568d4706e8010e6ea8e83dbf3010aff96eed984fcba53a8c6"
   }
  }
 },
 "nbformat": 4,
 "nbformat_minor": 2
}
