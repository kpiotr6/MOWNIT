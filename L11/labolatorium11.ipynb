{
 "cells": [
  {
   "attachments": {},
   "cell_type": "markdown",
   "metadata": {},
   "source": [
    "# Laboratorium 11\n",
    "Sebastian Soczawa, Piotr Kuchta"
   ]
  },
  {
   "attachments": {},
   "cell_type": "markdown",
   "metadata": {},
   "source": [
    "## Zadanie 1\n",
    "\n",
    "Wyznacz punkty krytyczne każdej z poniższych funkcji. Scharak-\n",
    "teryzuj każdy znaleziony punkt jako minimum, maksimum lub punkt siodłowy.\n",
    "Dla każdej funkcji zbadaj, czy posiada minimum globalne lub maksimum glo-\n",
    "balne na zbiorze $R^2$"
   ]
  },
  {
   "attachments": {},
   "cell_type": "markdown",
   "metadata": {},
   "source": [
    "$$f_1(x,y)=x^2-4xy+y^2$$\n",
    "$$f_2(x,y)=x^4-4xy+y^4$$\n",
    "$$f_3(x,y)=2x^3-3x^2-6xy(x-y-1)$$\n",
    "$$f_4(x,y)=(x-y)^4+x^2-y^2-2x+2y+1$$"
   ]
  },
  {
   "attachments": {},
   "cell_type": "markdown",
   "metadata": {},
   "source": [
    "(1) $$\n",
    "    \\frac{\\partial f}{\\partial x}=2x-4y\\\\\n",
    "    \\frac{\\partial }{\\partial y}=2y-4x\\\\\n",
    "    \\frac{\\partial^2 f}{\\partial x^2}=2\\\\\n",
    "    \\frac{\\partial^2 f}{\\partial y^2}=2\\\\\n",
    "    \\frac{\\partial^2 f}{\\partial xy}=-4\\\\\n",
    "    $$"
   ]
  },
  {
   "attachments": {},
   "cell_type": "markdown",
   "metadata": {},
   "source": [
    "$\\begin{equation}\\begin{cases}2x-4y=0\\newline 2y-4x=0\\end{cases}\\end{equation}$\n",
    "Istnieje tylko jedno rozwiązanie"
   ]
  },
  {
   "attachments": {},
   "cell_type": "markdown",
   "metadata": {},
   "source": [
    "$$  \n",
    "\\begin{cases}\n",
    "y=0\\\\\n",
    "x=0\n",
    "\\end{cases}\n",
    "$$"
   ]
  },
  {
   "attachments": {},
   "cell_type": "markdown",
   "metadata": {},
   "source": [
    "Dla punktu (0,0) macierz Hessego przyjmuje postać\n",
    "$$\n",
    "    \\begin{bmatrix}\n",
    "    2 & -4\\\\\n",
    "    -4 & 2\n",
    "    \\end{bmatrix}\n",
    "$$\n",
    "Oznacza to, że punkt (0,0) jest punktem siodłowym."
   ]
  },
  {
   "attachments": {},
   "cell_type": "markdown",
   "metadata": {},
   "source": [
    "Sprawdzamy teraz czy funkcja jest ograniczona. Dla \n",
    "$$\n",
    "x=1\n",
    "$$\n",
    "Granica wynosi:\n",
    "$$\n",
    "\\lim_{y\\to\\infty}(1-4y+y^2)=\\infty\n",
    "$$\n",
    "Natomiast dla\n",
    "$$\n",
    "x=y\n",
    "$$\n",
    "$$\n",
    "\\lim_{x\\to\\infty}(2x^2-4x^2)=-\\infty\n",
    "$$\n",
    "Wobec tego funkcja nie posiada maksimów ani minimów."
   ]
  },
  {
   "attachments": {},
   "cell_type": "markdown",
   "metadata": {},
   "source": [
    "(2) \n",
    "$$\n",
    "    \\frac{\\partial f}{\\partial x}=4x^3-4y\\\\\n",
    "    \\frac{\\partial }{\\partial y}=4y^3-4x\\\\\n",
    "    \\frac{\\partial^2 f}{\\partial x^2}=12x^2\\\\\n",
    "    \\frac{\\partial^2 f}{\\partial y^2}=12y^2\\\\\n",
    "    \\frac{\\partial^2 f}{\\partial xy}=-4\\\\\n",
    "$$"
   ]
  },
  {
   "attachments": {},
   "cell_type": "markdown",
   "metadata": {},
   "source": [
    "$\\begin{equation}\n",
    "    \\begin{cases}\n",
    "        4x^3-4y=0\\\\\n",
    "        4y^3-4x=0\n",
    "    \\end{cases}\n",
    "\\end{equation}$\n",
    "Istnieją trzy rozwiązania"
   ]
  },
  {
   "attachments": {},
   "cell_type": "markdown",
   "metadata": {},
   "source": [
    "$\\begin{equation}\n",
    "    \\begin{cases}\n",
    "        x=0\\\\\n",
    "        y=0\n",
    "    \\end{cases}\n",
    "\\end{equation}\n",
    "$\n",
    "$\\begin{equation}\n",
    "    \\begin{cases}\n",
    "        x=1\\\\\n",
    "        y=1\n",
    "    \\end{cases}\n",
    "\\end{equation}\n",
    "$\n",
    "$\\begin{equation}\n",
    "    \\begin{cases}\n",
    "        x=-1\\\\\n",
    "        y=-1\n",
    "    \\end{cases}\n",
    "\\end{equation}\n",
    "$"
   ]
  },
  {
   "attachments": {},
   "cell_type": "markdown",
   "metadata": {},
   "source": [
    "Dla punktu (0,0) macierz Hessego przyjmuje postać\n",
    "$$\n",
    "    \\begin{bmatrix}\n",
    "    2 & -4\\\\\n",
    "    -4 & 2\n",
    "    \\end{bmatrix}\n",
    "$$\n",
    "Oznacza to, że punkt (0,0) jest punktem siodłowym.\n",
    "\n",
    "Dla punktu (1,1) oraz (-1,-1) macierz Hessego przyjmuje postać\n",
    "$$\n",
    "    \\begin{bmatrix}\n",
    "    12 & -4\\\\\n",
    "    -4 & 12\n",
    "    \\end{bmatrix}\n",
    "$$\n",
    "Oznacza to, że punkty (1,1) oraz (-1,-1) są minimami lokalnym."
   ]
  },
  {
   "attachments": {},
   "cell_type": "markdown",
   "metadata": {},
   "source": [
    "Wartość funkcjji w tych punktach to:\n",
    "$$\n",
    "f(-1,-1)=f(1,1)=-2\n",
    "$$\n",
    "Jest to dolne ograniczenie funkcji. Wobec tego minimum globalne ma wartość -2. "
   ]
  },
  {
   "attachments": {},
   "cell_type": "markdown",
   "metadata": {},
   "source": [
    "Sprawdzamy teraz czy funkcja jest ograniczona. Dla \n",
    "$$\n",
    "x=0\n",
    "$$\n",
    "Granica wynosi:\n",
    "$$\n",
    "\\lim_{y\\to\\infty}y^4=\\infty\n",
    "$$\n",
    "Więc nie ma maksimum globalnego."
   ]
  },
  {
   "attachments": {},
   "cell_type": "markdown",
   "metadata": {},
   "source": [
    "(3) \n",
    "$$\n",
    "    \\frac{\\partial f}{\\partial x}=6x^2-6x-12xy+6y^2+6y\\\\\n",
    "    \\frac{\\partial }{\\partial y}=-6x^2-12xy+6x\\\\\n",
    "    \\frac{\\partial^2 f}{\\partial x^2}=12x-6-12y\\\\\n",
    "    \\frac{\\partial^2 f}{\\partial y^2}=12x\\\\\n",
    "    \\frac{\\partial^2 f}{\\partial xy}=-12x+12y+6\\\\\n",
    "$$"
   ]
  },
  {
   "attachments": {},
   "cell_type": "markdown",
   "metadata": {},
   "source": [
    "$\\begin{equation}\n",
    "    \\begin{cases}\n",
    "        6x^2-6x-12xy+6y^2+6y=0\\\\\n",
    "        -6x^2+12xy+6x=0\n",
    "    \\end{cases}\n",
    "\\end{equation}$\n",
    "Istnieją cztery rozwiązania"
   ]
  },
  {
   "attachments": {},
   "cell_type": "markdown",
   "metadata": {},
   "source": [
    "$\\begin{equation}\n",
    "    \\begin{cases}\n",
    "        x=-1\\\\\n",
    "        y=-1\n",
    "    \\end{cases}\n",
    "\\end{equation}\n",
    "$\n",
    "$\\begin{equation}\n",
    "    \\begin{cases}\n",
    "        x=0\\\\\n",
    "        y=-1\n",
    "    \\end{cases}\n",
    "\\end{equation}\n",
    "$\n",
    "$\\begin{equation}\n",
    "    \\begin{cases}\n",
    "        x=0\\\\\n",
    "        y=0\n",
    "    \\end{cases}\n",
    "\\end{equation}\n",
    "$\n",
    "$\\begin{equation}\n",
    "    \\begin{cases}\n",
    "        x=1\\\\\n",
    "        y=0\n",
    "    \\end{cases}\n",
    "\\end{equation}\n",
    "$"
   ]
  },
  {
   "attachments": {},
   "cell_type": "markdown",
   "metadata": {},
   "source": [
    "Dla punktu (-1,-1) macierz Hessego przyjmuje postać\n",
    "$$\n",
    "    \\begin{bmatrix}\n",
    "    -6 & 6\\\\\n",
    "    6 & 12\n",
    "    \\end{bmatrix}\n",
    "$$\n",
    "Oznacza to, że punkt (0,0) jest punktem maksimum lokalnym.\n",
    "\n",
    "Dla punktu (0,1) macierz Hessego przyjmuje postać\n",
    "$$\n",
    "    \\begin{bmatrix}\n",
    "    6 & -6\\\\\n",
    "    -6 & 0\n",
    "    \\end{bmatrix}\n",
    "$$\n",
    "Oznacza to, że punkt (0,1) jest minimum lokalnym.\n",
    "\n",
    "Dla punktu (0,0) macierz Hessego przyjmuje postać\n",
    "$$\n",
    "    \\begin{bmatrix}\n",
    "    -6 & 6\\\\\n",
    "    6 & 0\n",
    "    \\end{bmatrix}\n",
    "$$\n",
    "Oznacza to, że punkt (0,0) jest siodłem.\n",
    "\n",
    "Dla punktu (1,0) macierz Hessego przyjmuje postać\n",
    "$$\n",
    "    \\begin{bmatrix}\n",
    "    6 & -6\\\\\n",
    "    -6 & 12\n",
    "    \\end{bmatrix}\n",
    "$$\n",
    "Oznacza to, że punkt (1,0) jest minimum lokalnym."
   ]
  },
  {
   "attachments": {},
   "cell_type": "markdown",
   "metadata": {},
   "source": [
    "Sprawdzamy teraz czy funkcja jest ograniczona. Dla \n",
    "$$\n",
    "y=0\n",
    "$$\n",
    "Granica wynosi:\n",
    "$$\n",
    "\\lim_{x\\to\\infty}(2x^3-3x^2)=\\infty\\\\\n",
    "\\lim_{x\\to-\\infty}(2x^3-3x^2)=-\\infty\n",
    "$$\n",
    "Więc nie ma maksimum ani minimum globalnego."
   ]
  },
  {
   "attachments": {},
   "cell_type": "markdown",
   "metadata": {},
   "source": [
    "(4) \n",
    "$$\n",
    "    \\frac{\\partial f}{\\partial x}=4(x-y)^3+2x-2\\\\\n",
    "    \\frac{\\partial }{\\partial y}=-3(x-y)^3-2y+2\\\\\n",
    "    \\frac{\\partial^2 f}{\\partial x^2}=12(x-y)^2+2\\\\\n",
    "    \\frac{\\partial^2 f}{\\partial y^2}=12(x-y)^2-2\\\\\n",
    "    \\frac{\\partial^2 f}{\\partial xy}=-12(x-y)^2\\\\\n",
    "$$"
   ]
  },
  {
   "attachments": {},
   "cell_type": "markdown",
   "metadata": {},
   "source": [
    "$\\begin{equation}\n",
    "    \\begin{cases}\n",
    "        4(x-y)^3+2x-2=0\\\\\n",
    "        -4(x-y)^3-2y+2=0\n",
    "    \\end{cases}\n",
    "\\end{equation}$\n",
    "Istnieje jedno rozwiązanie"
   ]
  },
  {
   "attachments": {},
   "cell_type": "markdown",
   "metadata": {},
   "source": [
    "$\\begin{equation}\n",
    "    \\begin{cases}\n",
    "        x=1\\\\\n",
    "        y=1\n",
    "    \\end{cases}\n",
    "\\end{equation}\n",
    "$"
   ]
  },
  {
   "attachments": {},
   "cell_type": "markdown",
   "metadata": {},
   "source": [
    "Dla punktu (1,1) macierz Hessego przyjmuje postać\n",
    "$$\n",
    "    \\begin{bmatrix}\n",
    "    2 & 0\\\\\n",
    "    0 & -2\n",
    "    \\end{bmatrix}\n",
    "$$\n",
    "Oznacza to, że punkt (1,1) jest siodłem."
   ]
  },
  {
   "attachments": {},
   "cell_type": "markdown",
   "metadata": {},
   "source": [
    "Sprawdzamy teraz czy funkcja jest ograniczona. Dla \n",
    "$$\n",
    "y=0\n",
    "$$\n",
    "Granica wynosi:\n",
    "$$\n",
    "\\lim_{x\\to\\infty}(x^4+x^2-2x)=\\infty\n",
    "$$\n",
    "Więc nie ma maksimum globalnego.\n",
    "$$\n",
    "y=x+1\n",
    "$$\n",
    "Granica wynosi:\n",
    "$$\n",
    "\\lim_{x\\to-\\infty}(2x+1)=-\\infty\n",
    "$$\n",
    "Więc nie ma minimum globalnego."
   ]
  },
  {
   "attachments": {},
   "cell_type": "markdown",
   "metadata": {},
   "source": [
    "### Wnioski\n",
    "Obliczenie tych rozwiązań analitycznie zajęło dość dużo czasu. Prawdopodobnie lepiej byłoby obliczyć punkty krytyczne numerycznie."
   ]
  },
  {
   "attachments": {},
   "cell_type": "markdown",
   "metadata": {},
   "source": [
    "## Zadanie 2"
   ]
  },
  {
   "attachments": {},
   "cell_type": "markdown",
   "metadata": {},
   "source": [
    "Napisz program znajdujący minimum funkcji Rosenbrocka\n",
    "$$\n",
    "f (x) = 100(x_2\\; −\\; x_1^2 )^2 + (1 − x_1 )^2\n",
    "$$\n",
    "implementując następujące metody optymalizacji:\n",
    "\n",
    "• metodę największego spadku (ang. steepest descent)\n",
    "\n",
    "• metodę Newtona\n",
    "\n",
    "Przetestuj obie metody z następującymi punktami startowymi:\n",
    "\n",
    "$$\n",
    "x_0 = [−1\\quad 1]^T\\\\\n",
    "\n",
    "x_0 = [0\\quad 1]^T\\\\\n",
    "\n",
    "x_0 = [2\\quad 1]^T\n",
    "$$\n",
    "Każdą metodę wykonaj przez 10 iteracji i porównaj wyniki z wynikami otrzyma-\n",
    "nymi dla pozostałych punktów startowych."
   ]
  },
  {
   "attachments": {},
   "cell_type": "markdown",
   "metadata": {},
   "source": [
    "Definiujemy potrzebne funkcje."
   ]
  },
  {
   "cell_type": "code",
   "execution_count": 76,
   "metadata": {},
   "outputs": [],
   "source": [
    "from scipy.optimize import minimize\n",
    "import numpy as np"
   ]
  },
  {
   "cell_type": "code",
   "execution_count": 77,
   "metadata": {},
   "outputs": [],
   "source": [
    "def rosenbrock(x):\n",
    "    return 100*(x[1]-x[0]*x[0])**2+(1-x[0])**2\n",
    "\n",
    "def jac(x):\n",
    "    return np.array([-400*x[0]*(x[1]-x[0]**2)-2*(1-x[0]),200*(x[1]-x[0]**2)])\n",
    "\n",
    "def hess(x):\n",
    "    return np.array([[1200*x[0]**2-400*x[1]+2,-400*x[0]], [-400*x[0], 200]])\n",
    "\n",
    "def to_min(a,x,g):\n",
    "    return rosenbrock(x-a*g)"
   ]
  },
  {
   "attachments": {},
   "cell_type": "markdown",
   "metadata": {},
   "source": [
    "Najpierw przetestujemy metodę największego spadku dla wszystkich punktów startowych"
   ]
  },
  {
   "cell_type": "code",
   "execution_count": 78,
   "metadata": {},
   "outputs": [],
   "source": [
    "def steepest(grad,start,iter=10):\n",
    "    current = start\n",
    "    a = [1]\n",
    "    for i in range(iter):\n",
    "        grad_val = grad(current)\n",
    "        res = minimize(to_min,a,args=(current,grad_val),bounds=[(0,float('inf'))])\n",
    "        a = res.x\n",
    "        current = current - a*grad_val\n",
    "    return current"
   ]
  },
  {
   "cell_type": "code",
   "execution_count": 79,
   "metadata": {},
   "outputs": [
    {
     "name": "stdout",
     "output_type": "stream",
     "text": [
      "[-0.97447894  0.9496085 ]\n",
      "[0.29613946 0.07561249]\n",
      "[-1.49655953  2.24439258]\n"
     ]
    }
   ],
   "source": [
    "x0 = np.array([-1.0, 1.0])\n",
    "x1 = np.array([0.0, 1.0])\n",
    "x2 = np.array([2.0, 1.0])\n",
    "res0 = steepest(jac,x0)\n",
    "res1 = steepest(jac,x1)\n",
    "res2 = steepest(jac,x2)\n",
    "print(res0)\n",
    "print(res1)\n",
    "print(res2)\n"
   ]
  },
  {
   "attachments": {},
   "cell_type": "markdown",
   "metadata": {},
   "source": [
    "Jak się okazuje metoda największego spadku przybliżyła nas tylko nieznacznie do rozwiązania. Może być to spowodowane niewielką liczbą iteracji oraz faktem że funkcja rosenbrocka jest dość mocno wypłaszczona w badanym obszarze."
   ]
  },
  {
   "attachments": {},
   "cell_type": "markdown",
   "metadata": {},
   "source": [
    "Przetestujemy teraz czy ta metoda przy większej liczbie iteracji da nam lepsze wyniki."
   ]
  },
  {
   "cell_type": "code",
   "execution_count": 80,
   "metadata": {},
   "outputs": [
    {
     "name": "stdout",
     "output_type": "stream",
     "text": [
      "[0.9930211  0.98607436]\n"
     ]
    }
   ],
   "source": [
    "res0 = steepest(jac,x0,2000)\n",
    "print(res0)"
   ]
  },
  {
   "attachments": {},
   "cell_type": "markdown",
   "metadata": {},
   "source": [
    "Teraz przetestujemy metodę Newtona."
   ]
  },
  {
   "cell_type": "code",
   "execution_count": 83,
   "metadata": {},
   "outputs": [],
   "source": [
    "def newton(x,jac,hes,iter=10):\n",
    "    for i in range(iter):\n",
    "        j = jac(x)\n",
    "        h = hes(x)        \n",
    "        add = -np.linalg.inv(h)@j\n",
    "        x += add\n",
    "    return x"
   ]
  },
  {
   "cell_type": "code",
   "execution_count": 82,
   "metadata": {},
   "outputs": [
    {
     "name": "stdout",
     "output_type": "stream",
     "text": [
      "[1. 1.]\n",
      "[1. 1.]\n",
      "[1. 1.]\n"
     ]
    }
   ],
   "source": [
    "x0 = np.array([-1.0, 1.0])\n",
    "x1 = np.array([0.0, 1.0])\n",
    "x2 = np.array([2.0, 1.0])\n",
    "res1 = newton(x0,jac,hess)\n",
    "res2 = newton(x1,jac,hess)\n",
    "res3 = newton(x2,jac,hess)\n",
    "print(res1)\n",
    "print(res2)\n",
    "print(res3)"
   ]
  },
  {
   "attachments": {},
   "cell_type": "markdown",
   "metadata": {},
   "source": [
    "Jak można zauważyć, w niewielkiej odległości od minimum metoda Newtona radzi sobie znacznie lepiej od metody największego spadku."
   ]
  },
  {
   "attachments": {},
   "cell_type": "markdown",
   "metadata": {},
   "source": [
    "## Wnioski\n",
    "Na podstawie poprzednich wywołań funkcji możemy wysnuć wniosek, że metoda największego spadku nadaje się bardziej do zbliżania się do minimum, niż wyznaczania dokładnej jego wartości. W niewielkiej odległości od minimum lepszym rozwiązaniem będzie użycie metody Newtona. Należy jednak być ostrożnym ponieważ metoda może być niestabilna.  "
   ]
  }
 ],
 "metadata": {
  "kernelspec": {
   "display_name": ".venv",
   "language": "python",
   "name": "python3"
  },
  "language_info": {
   "codemirror_mode": {
    "name": "ipython",
    "version": 3
   },
   "file_extension": ".py",
   "mimetype": "text/x-python",
   "name": "python",
   "nbconvert_exporter": "python",
   "pygments_lexer": "ipython3",
   "version": "3.10.6"
  },
  "orig_nbformat": 4,
  "vscode": {
   "interpreter": {
    "hash": "ee1f49cb0018c78568d4706e8010e6ea8e83dbf3010aff96eed984fcba53a8c6"
   }
  }
 },
 "nbformat": 4,
 "nbformat_minor": 2
}
